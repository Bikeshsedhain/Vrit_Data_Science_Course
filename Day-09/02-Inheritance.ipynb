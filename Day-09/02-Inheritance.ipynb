{
 "cells": [
  {
   "cell_type": "code",
   "execution_count": null,
   "id": "48f381fa",
   "metadata": {},
   "outputs": [],
   "source": []
  },
  {
   "cell_type": "code",
   "execution_count": 1,
   "id": "af4be9c1",
   "metadata": {},
   "outputs": [],
   "source": [
    "class Animal:\n",
    "    def __init__(self, name, age):\n",
    "        self.name = name\n",
    "        self.age = age\n",
    "        \n",
    "    def intro(self):\n",
    "        print('I am an animal')\n",
    "        \n",
    "class Cat(Animal):\n",
    "    def __init__(self, name, age, color):\n",
    "        super().__init__(name, age)\n",
    "        self.color = color\n",
    "        \n",
    "    def speak(self):\n",
    "        print(\"Meow!\")\n",
    "        "
   ]
  },
  {
   "cell_type": "code",
   "execution_count": 2,
   "id": "572910fa",
   "metadata": {},
   "outputs": [
    {
     "name": "stdout",
     "output_type": "stream",
     "text": [
      "Fluffy\n",
      "3\n",
      "gray\n",
      "Meow!\n",
      "I am an animal\n"
     ]
    }
   ],
   "source": [
    "my_cat = Cat('Fluffy', 3, 'gray')\n",
    "print(my_cat.name)\n",
    "print(my_cat.age)\n",
    "print(my_cat.color)\n",
    "my_cat.speak()\n",
    "my_cat.intro()\n"
   ]
  },
  {
   "cell_type": "markdown",
   "id": "385038cf",
   "metadata": {},
   "source": [
    " # Multiple Inheritance"
   ]
  },
  {
   "cell_type": "code",
   "execution_count": 4,
   "id": "78bb3b2d",
   "metadata": {},
   "outputs": [
    {
     "name": "stdout",
     "output_type": "stream",
     "text": [
      "This is the parent 1 function\n",
      "None\n",
      "This is the parent 2 function!\n",
      "None\n",
      "This is child function\n",
      "None\n"
     ]
    }
   ],
   "source": [
    "class Parent1:\n",
    "    def func1(self):\n",
    "        print('This is the parent 1 function')\n",
    "        \n",
    "class Parent2:\n",
    "    def func2(self):\n",
    "        print('This is the parent 2 function!')\n",
    "\n",
    "class Child(Parent1, Parent2):\n",
    "    def func3(self):\n",
    "        print('This is child function')\n",
    "        \n",
    "abj = Child()\n",
    "\n",
    "print(abj.func1())\n",
    "print(abj.func2())\n",
    "print(abj.func3())"
   ]
  },
  {
   "cell_type": "markdown",
   "id": "d8920e2b",
   "metadata": {},
   "source": [
    "### None is printed because the above methods do not have any explicit return statement"
   ]
  },
  {
   "cell_type": "code",
   "execution_count": 5,
   "id": "b3ef7524",
   "metadata": {},
   "outputs": [
    {
     "name": "stdout",
     "output_type": "stream",
     "text": [
      "This is the parent 1 function\n"
     ]
    }
   ],
   "source": [
    "Child().func1()"
   ]
  },
  {
   "cell_type": "markdown",
   "id": "21901255",
   "metadata": {},
   "source": [
    "# Multi-level inheritance"
   ]
  },
  {
   "cell_type": "code",
   "execution_count": 7,
   "id": "4125596f",
   "metadata": {},
   "outputs": [],
   "source": [
    "class A:\n",
    "    def method_a(self):\n",
    "        print(\"This is method A from class A\")\n",
    "class B(A):\n",
    "    def method_b(self):\n",
    "        print('This is method B from class B')\n",
    "class C(B):\n",
    "    def method_c(self):\n",
    "        print('This is method C from class C')"
   ]
  },
  {
   "cell_type": "code",
   "execution_count": 9,
   "id": "aefc0bb5",
   "metadata": {},
   "outputs": [
    {
     "name": "stdout",
     "output_type": "stream",
     "text": [
      "This is method A from class A\n",
      "None\n",
      "This is method B from class B\n",
      "None\n",
      "This is method C from class C\n",
      "None\n"
     ]
    }
   ],
   "source": [
    "obj = C()\n",
    "print(obj.method_a())\n",
    "print(obj.method_b())\n",
    "print(obj.method_c())"
   ]
  },
  {
   "cell_type": "markdown",
   "id": "130cbd57",
   "metadata": {},
   "source": [
    "# Hierarchial Interitance"
   ]
  },
  {
   "cell_type": "code",
   "execution_count": 13,
   "id": "a1865f36",
   "metadata": {},
   "outputs": [],
   "source": [
    "class Animal:\n",
    "    def __init__(self,name):\n",
    "        self.name = name\n",
    "    \n",
    "    def intro(self):\n",
    "        pass\n",
    "class Cat(Animal):\n",
    "    def speak(self):\n",
    "        return \"Meow\"\n",
    "\n",
    "class Dog(Animal):\n",
    "    def speak(self):\n",
    "        return \"woo\"\n",
    "    \n",
    "class Lion(Animal):\n",
    "    def speak(self):\n",
    "        return \"Roar\""
   ]
  },
  {
   "cell_type": "raw",
   "id": "58c2771f",
   "metadata": {},
   "source": []
  },
  {
   "cell_type": "markdown",
   "id": "522028c7",
   "metadata": {},
   "source": [
    "# Hybrid Inheritance"
   ]
  },
  {
   "cell_type": "code",
   "execution_count": 16,
   "id": "a0bd2de4",
   "metadata": {},
   "outputs": [],
   "source": [
    "class Animal:\n",
    "    def __init__(self, name):\n",
    "        self.name = name\n",
    "    def speak(self):\n",
    "        print(f'{self.name} is speaking.')\n",
    "        \n",
    "class Mammal(Animal):\n",
    "    def __init__(self,name):\n",
    "        super().__init__(name)\n",
    "    def feed_milk(self):\n",
    "        print(f'{self.name} is feeding mile.')\n",
    "        \n",
    "class Bird(Animal):\n",
    "    def __init__(self, name):\n",
    "        super().__init__(name)\n",
    "        \n",
    "    def fly(self):\n",
    "        print(f'{self.name} is flying.')\n",
    "        \n",
    "class Bat(Mammal, Bird):\n",
    "    def __init__(self, name):\n",
    "        super().__init__(name)\n",
    "        "
   ]
  },
  {
   "cell_type": "code",
   "execution_count": 17,
   "id": "d42ab714",
   "metadata": {},
   "outputs": [
    {
     "name": "stdout",
     "output_type": "stream",
     "text": [
      "Bruce is speaking.\n",
      "Bruce is feeding mile.\n",
      "Bruce is flying.\n"
     ]
    }
   ],
   "source": [
    "b = Bat(\"Bruce\")\n",
    "b.speak()\n",
    "b.feed_milk()\n",
    "b.fly()"
   ]
  },
  {
   "cell_type": "code",
   "execution_count": null,
   "id": "e5f46e9f",
   "metadata": {},
   "outputs": [],
   "source": []
  }
 ],
 "metadata": {
  "kernelspec": {
   "display_name": "Python 3 (ipykernel)",
   "language": "python",
   "name": "python3"
  },
  "language_info": {
   "codemirror_mode": {
    "name": "ipython",
    "version": 3
   },
   "file_extension": ".py",
   "mimetype": "text/x-python",
   "name": "python",
   "nbconvert_exporter": "python",
   "pygments_lexer": "ipython3",
   "version": "3.10.5"
  }
 },
 "nbformat": 4,
 "nbformat_minor": 5
}
