{
 "cells": [
  {
   "cell_type": "markdown",
   "id": "c874300f",
   "metadata": {},
   "source": [
    "# Encapsulation"
   ]
  },
  {
   "cell_type": "code",
   "execution_count": 7,
   "id": "77674316",
   "metadata": {},
   "outputs": [],
   "source": [
    "class Example:\n",
    "    def __init__(self):\n",
    "        self.public_var = 1\n",
    "        self._protected_var = 2\n",
    "        self.__private_var = 3\n",
    "        \n",
    "    def public.method(self):\n",
    "        print('this is a public method')\n",
    "    def _protected_method(self):\n",
    "        print('this is a protected method')\n",
    "    def __private_method(self):\n",
    "        print('this is a private method')"
   ]
  },
  {
   "cell_type": "code",
   "execution_count": 8,
   "id": "25e9529e",
   "metadata": {},
   "outputs": [],
   "source": [
    "class SubClass(Example):\n",
    "    def __init__(self):\n",
    "        super().__init__()\n",
    "        \n",
    "    def get_public_member(self):\n",
    "        print(self.public_var)\n",
    "    \n",
    "    def get_protected_member(self):\n",
    "        print(self._protected_var)\n",
    "        \n",
    "    def get_private_member(self):\n",
    "        print(self.__private_var)"
   ]
  },
  {
   "cell_type": "code",
   "execution_count": 9,
   "id": "edd1b133",
   "metadata": {},
   "outputs": [],
   "source": [
    "sub = SubClass()\n",
    "sub.get_public_member() \n",
    "sub.get_protected_member()\n",
    "sub.get_private_member()"
   ]
  },
  {
   "cell_type": "code",
   "execution_count": null,
   "id": "621e8a5e",
   "metadata": {},
   "outputs": [],
   "source": []
  }
 ],
 "metadata": {
  "kernelspec": {
   "display_name": "Python 3 (ipykernel)",
   "language": "python",
   "name": "python3"
  },
  "language_info": {
   "codemirror_mode": {
    "name": "ipython",
    "version": 3
   },
   "file_extension": ".py",
   "mimetype": "text/x-python",
   "name": "python",
   "nbconvert_exporter": "python",
   "pygments_lexer": "ipython3",
   "version": "3.10.5"
  }
 },
 "nbformat": 4,
 "nbformat_minor": 5
}
