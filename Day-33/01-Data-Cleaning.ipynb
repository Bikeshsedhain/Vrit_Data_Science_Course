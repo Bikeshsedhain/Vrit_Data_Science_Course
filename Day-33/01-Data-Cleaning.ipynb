{
 "cells": [
  {
   "cell_type": "markdown",
   "id": "f30b4657",
   "metadata": {},
   "source": [
    "## Handling Duplicates"
   ]
  },
  {
   "cell_type": "code",
   "execution_count": 1,
   "id": "5e4829ea",
   "metadata": {},
   "outputs": [],
   "source": [
    "import pandas as pd"
   ]
  },
  {
   "cell_type": "code",
   "execution_count": 19,
   "id": "a8df457a",
   "metadata": {},
   "outputs": [
    {
     "name": "stdout",
     "output_type": "stream",
     "text": [
      "Original dataframe\n",
      "     A  B   C\n",
      "0  foo  1  10\n",
      "1  bar  2  20\n",
      "2  foo  3  30\n",
      "3  baz  4  40\n",
      "4  qux  5  50\n",
      "5  bar  6  60\n",
      "6  foo  7  70\n"
     ]
    }
   ],
   "source": [
    "# create a sample dataset with duplicate values\n",
    "\n",
    "data = {'A':['foo','bar','foo','baz','qux','bar','foo'], 'B':[1,2,3,4,5,6,7],'C':[10,20,30,40,50,60,70]}\n",
    "df = pd.DataFrame(data)\n",
    "\n",
    "#Print the original dataframe\n",
    "print('Original dataframe')\n",
    "print(df)"
   ]
  },
  {
   "cell_type": "code",
   "execution_count": 26,
   "id": "1efca3a7",
   "metadata": {},
   "outputs": [
    {
     "name": "stdout",
     "output_type": "stream",
     "text": [
      "\n",
      " Dataframe after dropping duplicates:\n",
      "     A  B   C  duplicate\n",
      "0  foo  1  10      False\n",
      "1  bar  2  20      False\n",
      "3  baz  4  40      False\n",
      "4  qux  5  50      False\n"
     ]
    }
   ],
   "source": [
    "# Drop duplicate\n",
    "df.drop_duplicates(subset=['A'], inplace = True)\n",
    "print('\\n Dataframe after dropping duplicates:')\n",
    "print(df)"
   ]
  },
  {
   "cell_type": "code",
   "execution_count": 27,
   "id": "21ae0c59",
   "metadata": {},
   "outputs": [
    {
     "name": "stdout",
     "output_type": "stream",
     "text": [
      "Original dataframe\n",
      "     A  B   C\n",
      "0  foo  1  10\n",
      "1  bar  2  20\n",
      "2  foo  3  30\n",
      "3  baz  4  40\n",
      "4  qux  5  50\n",
      "5  bar  6  60\n",
      "6  foo  7  70\n"
     ]
    }
   ],
   "source": [
    "data = {'A':['foo','bar','foo','baz','qux','bar','foo'], 'B':[1,2,3,4,5,6,7],'C':[10,20,30,40,50,60,70]}\n",
    "df = pd.DataFrame(data)\n",
    "\n",
    "#Print the original dataframe\n",
    "print('Original dataframe')\n",
    "print(df)"
   ]
  },
  {
   "cell_type": "code",
   "execution_count": 29,
   "id": "b10da282",
   "metadata": {},
   "outputs": [
    {
     "name": "stdout",
     "output_type": "stream",
     "text": [
      "\n",
      " Dataframe after aggregation duplicates:\n",
      "            B          C\n",
      "A                       \n",
      "bar  4.000000  40.000000\n",
      "baz  4.000000  40.000000\n",
      "foo  3.666667  36.666667\n",
      "qux  5.000000  50.000000\n"
     ]
    }
   ],
   "source": [
    "#Aggregate duplicates\n",
    "agg_df = df.groupby(['A']).mean()\n",
    "print('\\n Dataframe after aggregation duplicates:')\n",
    "print(agg_df)"
   ]
  },
  {
   "cell_type": "code",
   "execution_count": 30,
   "id": "9f87e5b2",
   "metadata": {},
   "outputs": [
    {
     "name": "stdout",
     "output_type": "stream",
     "text": [
      "Original dataframe\n",
      "     A  B   C\n",
      "0  foo  1  10\n",
      "1  bar  2  20\n",
      "2  foo  3  30\n",
      "3  baz  4  40\n",
      "4  qux  5  50\n",
      "5  bar  6  60\n",
      "6  foo  7  70\n"
     ]
    }
   ],
   "source": [
    "data = {'A':['foo','bar','foo','baz','qux','bar','foo'], 'B':[1,2,3,4,5,6,7],'C':[10,20,30,40,50,60,70]}\n",
    "df = pd.DataFrame(data)\n",
    "\n",
    "#Print the original dataframe\n",
    "print('Original dataframe')\n",
    "print(df)"
   ]
  },
  {
   "cell_type": "code",
   "execution_count": 31,
   "id": "b1b534aa",
   "metadata": {},
   "outputs": [
    {
     "name": "stdout",
     "output_type": "stream",
     "text": [
      "\n",
      "Dataframe after keeping the first occurence:\n",
      "     A  B   C\n",
      "0  foo  1  10\n",
      "1  bar  2  20\n",
      "3  baz  4  40\n",
      "4  qux  5  50\n"
     ]
    }
   ],
   "source": [
    "# Keep the first occurence\n",
    "first_df = df.drop_duplicates(subset = ['A'], keep = 'first')\n",
    "print('\\nDataframe after keeping the first occurence:')\n",
    "print(first_df)"
   ]
  },
  {
   "cell_type": "code",
   "execution_count": 32,
   "id": "43b8fd9c",
   "metadata": {},
   "outputs": [
    {
     "name": "stdout",
     "output_type": "stream",
     "text": [
      "\n",
      "Dataframe after keeping the last occurence:\n",
      "     A  B   C\n",
      "0  foo  1  10\n",
      "1  bar  2  20\n",
      "3  baz  4  40\n",
      "4  qux  5  50\n"
     ]
    }
   ],
   "source": [
    "# Keep the last occurence\n",
    "last_df = df.drop_duplicates(subset = ['A'], keep = 'last')\n",
    "print('\\nDataframe after keeping the last occurence:')\n",
    "print(first_df)"
   ]
  },
  {
   "cell_type": "code",
   "execution_count": 33,
   "id": "3da8cce7",
   "metadata": {},
   "outputs": [
    {
     "name": "stdout",
     "output_type": "stream",
     "text": [
      "Original dataframe\n",
      "     A  B   C\n",
      "0  foo  1  10\n",
      "1  bar  2  20\n",
      "2  foo  3  30\n",
      "3  baz  4  40\n",
      "4  qux  5  50\n",
      "5  bar  6  60\n",
      "6  foo  7  70\n"
     ]
    }
   ],
   "source": [
    "data = {'A':['foo','bar','foo','baz','qux','bar','foo'], 'B':[1,2,3,4,5,6,7],'C':[10,20,30,40,50,60,70]}\n",
    "df = pd.DataFrame(data)\n",
    "\n",
    "#Print the original dataframe\n",
    "print('Original dataframe')\n",
    "print(df)"
   ]
  },
  {
   "cell_type": "code",
   "execution_count": 35,
   "id": "02bac1ae",
   "metadata": {},
   "outputs": [
    {
     "name": "stdout",
     "output_type": "stream",
     "text": [
      "\n",
      "Dataframe after marking duplicates:\n",
      "     A  B   C  duplicate\n",
      "0  foo  1  10      False\n",
      "1  bar  2  20      False\n",
      "2  foo  3  30       True\n",
      "3  baz  4  40      False\n",
      "4  qux  5  50      False\n",
      "5  bar  6  60       True\n",
      "6  foo  7  70       True\n"
     ]
    }
   ],
   "source": [
    "# Mark duplicates\n",
    "df['duplicate'] = df.duplicated(subset=['A'])\n",
    "print('\\nDataframe after marking duplicates:')\n",
    "print(df)"
   ]
  },
  {
   "cell_type": "code",
   "execution_count": null,
   "id": "1776f1fd",
   "metadata": {},
   "outputs": [],
   "source": []
  },
  {
   "cell_type": "code",
   "execution_count": null,
   "id": "6db28a06",
   "metadata": {},
   "outputs": [],
   "source": []
  }
 ],
 "metadata": {
  "kernelspec": {
   "display_name": "Python 3 (ipykernel)",
   "language": "python",
   "name": "python3"
  },
  "language_info": {
   "codemirror_mode": {
    "name": "ipython",
    "version": 3
   },
   "file_extension": ".py",
   "mimetype": "text/x-python",
   "name": "python",
   "nbconvert_exporter": "python",
   "pygments_lexer": "ipython3",
   "version": "3.10.5"
  }
 },
 "nbformat": 4,
 "nbformat_minor": 5
}
