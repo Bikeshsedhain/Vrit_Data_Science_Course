{
 "cells": [
  {
   "cell_type": "markdown",
   "id": "6b867f06",
   "metadata": {},
   "source": [
    "## Classes and Objects"
   ]
  },
  {
   "cell_type": "code",
   "execution_count": 3,
   "id": "ea78ca44",
   "metadata": {},
   "outputs": [],
   "source": [
    "class Dog:\n",
    "    def __init__(self, name, age):\n",
    "        self.name = name\n",
    "        self.age = age\n",
    "        \n",
    "    def bark(self):\n",
    "        print(f\"{self.name} is barking!\")\n",
    "        "
   ]
  },
  {
   "cell_type": "code",
   "execution_count": 4,
   "id": "4d2f2f86",
   "metadata": {},
   "outputs": [
    {
     "name": "stdout",
     "output_type": "stream",
     "text": [
      "<class '__main__.Dog'>\n"
     ]
    }
   ],
   "source": [
    "my_dog = Dog('Tommy', 6)\n",
    "print(type(my_dog))"
   ]
  },
  {
   "cell_type": "code",
   "execution_count": 5,
   "id": "df4c82ac",
   "metadata": {},
   "outputs": [
    {
     "data": {
      "text/plain": [
       "['__class__',\n",
       " '__delattr__',\n",
       " '__dict__',\n",
       " '__dir__',\n",
       " '__doc__',\n",
       " '__eq__',\n",
       " '__format__',\n",
       " '__ge__',\n",
       " '__getattribute__',\n",
       " '__gt__',\n",
       " '__hash__',\n",
       " '__init__',\n",
       " '__init_subclass__',\n",
       " '__le__',\n",
       " '__lt__',\n",
       " '__module__',\n",
       " '__ne__',\n",
       " '__new__',\n",
       " '__reduce__',\n",
       " '__reduce_ex__',\n",
       " '__repr__',\n",
       " '__setattr__',\n",
       " '__sizeof__',\n",
       " '__str__',\n",
       " '__subclasshook__',\n",
       " '__weakref__',\n",
       " 'age',\n",
       " 'bark',\n",
       " 'name']"
      ]
     },
     "execution_count": 5,
     "metadata": {},
     "output_type": "execute_result"
    }
   ],
   "source": [
    "dir(my_dog)"
   ]
  },
  {
   "cell_type": "code",
   "execution_count": 2,
   "id": "b9167e52",
   "metadata": {},
   "outputs": [],
   "source": [
    "class Bike:\n",
    "    def __init__(self, company, model, year):\n",
    "        self.company = company\n",
    "        self.model = model\n",
    "        self.year = year\n",
    "    \n",
    "    def start(self):\n",
    "        print(f'{self.company} company, {self.model} model and made in {self.year}')\n",
    "              "
   ]
  },
  {
   "cell_type": "code",
   "execution_count": 3,
   "id": "43a70e1e",
   "metadata": {},
   "outputs": [],
   "source": [
    "my_bike=Bike('yamaha','fz',2013)"
   ]
  },
  {
   "cell_type": "code",
   "execution_count": 4,
   "id": "e2185288",
   "metadata": {},
   "outputs": [
    {
     "data": {
      "text/plain": [
       "'yamaha'"
      ]
     },
     "execution_count": 4,
     "metadata": {},
     "output_type": "execute_result"
    }
   ],
   "source": [
    "my_bike.company"
   ]
  },
  {
   "cell_type": "code",
   "execution_count": 5,
   "id": "91e50f7a",
   "metadata": {},
   "outputs": [
    {
     "data": {
      "text/plain": [
       "<bound method Bike.start of <__main__.Bike object at 0x000001379ABAC1C0>>"
      ]
     },
     "execution_count": 5,
     "metadata": {},
     "output_type": "execute_result"
    }
   ],
   "source": [
    "my_bike.start"
   ]
  },
  {
   "cell_type": "code",
   "execution_count": 6,
   "id": "abb64b9f",
   "metadata": {},
   "outputs": [
    {
     "name": "stdout",
     "output_type": "stream",
     "text": [
      "yamaha bike which is fz model of 2013\n"
     ]
    }
   ],
   "source": [
    "my_bike.start()"
   ]
  },
  {
   "cell_type": "code",
   "execution_count": 11,
   "id": "e6a513b5",
   "metadata": {},
   "outputs": [],
   "source": [
    "class Bike:\n",
    "    def __init__(self, company, model, year):\n",
    "        self.company = company\n",
    "        self.model = model\n",
    "        self.year = year\n",
    "        self.start()\n",
    "    \n",
    "    def start(self):\n",
    "        print(f'{self.company} company, {self.model} model and made in {self.year}')"
   ]
  },
  {
   "cell_type": "code",
   "execution_count": 12,
   "id": "a80fd920",
   "metadata": {},
   "outputs": [
    {
     "name": "stdout",
     "output_type": "stream",
     "text": [
      "bajaj company, pulsar model and made in 2012\n"
     ]
    }
   ],
   "source": [
    "my_bike=Bike('bajaj','pulsar',2012)"
   ]
  },
  {
   "cell_type": "code",
   "execution_count": 13,
   "id": "f33d1543",
   "metadata": {},
   "outputs": [],
   "source": [
    "class Bike:\n",
    "    def __init__(self, company, model, year):\n",
    "        self.company = company\n",
    "        self.model = model\n",
    "        self.year = year\n",
    "        self.start()\n",
    "    \n",
    "    def method(self):\n",
    "        print('This is a dummy method!')\n",
    "    \n",
    "    def start(self):\n",
    "        res = self.method()\n",
    "        print(f'{self.company} company, {self.model} model and made in {self.year}')"
   ]
  },
  {
   "cell_type": "code",
   "execution_count": 14,
   "id": "4176d2c3",
   "metadata": {},
   "outputs": [
    {
     "name": "stdout",
     "output_type": "stream",
     "text": [
      "This is a dummy method!\n",
      "Bajaj company, Pulsar model and made in 2018\n"
     ]
    }
   ],
   "source": [
    "my_bike1=Bike('Bajaj', 'Pulsar', 2018)"
   ]
  },
  {
   "cell_type": "code",
   "execution_count": 15,
   "id": "5f270c5a",
   "metadata": {},
   "outputs": [],
   "source": [
    "class Person:\n",
    "    count = 0 #class attribute\n",
    "    def __init__(self,name):\n",
    "        self.name = name\n",
    "        Person.count +=1\n",
    "        \n",
    "    @classmethod\n",
    "    def get_count(cls): #defining class method\n",
    "        return cls.count\n",
    "    @staticmethod\n",
    "    def get_full_name(firstname, secondname):\n",
    "        return f'{firstname} {secondname}'"
   ]
  },
  {
   "cell_type": "code",
   "execution_count": 16,
   "id": "db0eac1b",
   "metadata": {},
   "outputs": [
    {
     "name": "stdout",
     "output_type": "stream",
     "text": [
      "0\n",
      "1\n",
      "2\n"
     ]
    }
   ],
   "source": [
    "print(Person.get_count())\n",
    "\n",
    "person1 = Person(\"Bikesh\")\n",
    "print(Person.get_count())\n",
    "\n",
    "person2 = Person(\"Bob\")\n",
    "print(Person.get_count())"
   ]
  },
  {
   "cell_type": "code",
   "execution_count": 18,
   "id": "cebbeeb7",
   "metadata": {},
   "outputs": [
    {
     "name": "stdout",
     "output_type": "stream",
     "text": [
      "2\n"
     ]
    }
   ],
   "source": [
    "print(person2.get_count())"
   ]
  },
  {
   "cell_type": "code",
   "execution_count": 19,
   "id": "acf6192f",
   "metadata": {},
   "outputs": [
    {
     "name": "stdout",
     "output_type": "stream",
     "text": [
      "2\n"
     ]
    }
   ],
   "source": [
    "print(Person.get_count())"
   ]
  },
  {
   "cell_type": "code",
   "execution_count": 20,
   "id": "6162764f",
   "metadata": {},
   "outputs": [
    {
     "data": {
      "text/plain": [
       "'Bikesh Sedhain'"
      ]
     },
     "execution_count": 20,
     "metadata": {},
     "output_type": "execute_result"
    }
   ],
   "source": [
    "person1.get_full_name('Bikesh', 'Sedhain')"
   ]
  },
  {
   "cell_type": "markdown",
   "id": "bf48282e",
   "metadata": {},
   "source": [
    "## Types of Method\n",
    "a. Instance method\n",
    "b. Class method\n",
    "c. static method"
   ]
  },
  {
   "cell_type": "code",
   "execution_count": null,
   "id": "d3d84202",
   "metadata": {},
   "outputs": [],
   "source": []
  }
 ],
 "metadata": {
  "kernelspec": {
   "display_name": "Python 3 (ipykernel)",
   "language": "python",
   "name": "python3"
  },
  "language_info": {
   "codemirror_mode": {
    "name": "ipython",
    "version": 3
   },
   "file_extension": ".py",
   "mimetype": "text/x-python",
   "name": "python",
   "nbconvert_exporter": "python",
   "pygments_lexer": "ipython3",
   "version": "3.10.5"
  }
 },
 "nbformat": 4,
 "nbformat_minor": 5
}
