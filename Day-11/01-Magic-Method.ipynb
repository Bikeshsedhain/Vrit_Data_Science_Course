{
 "cells": [
  {
   "cell_type": "code",
   "execution_count": 1,
   "id": "706297d8",
   "metadata": {},
   "outputs": [],
   "source": [
    "class Person:\n",
    "    def __init__(self, name, age):\n",
    "        self.name = name\n",
    "        self.age = age\n",
    "        \n",
    "    def __str__(self):\n",
    "        return f'{self.name} is {self.age} years old'\n",
    "    \n",
    "    def __repr__(self):\n",
    "        return f'Person({self.name}, {self.age})'\n",
    "    \n",
    "    def __len__(self):\n",
    "        return self.age  # khaas maa length dine ho tara aru integer lai pani call garna milxa\n",
    "    \n",
    "    def __call__(self):\n",
    "        return f'{self.name} is being called'"
   ]
  },
  {
   "cell_type": "code",
   "execution_count": 3,
   "id": "b74cfdd9",
   "metadata": {},
   "outputs": [
    {
     "name": "stdout",
     "output_type": "stream",
     "text": [
      "Bikesh is 23 years old\n",
      "Bikesh is 23 years old\n",
      "Person(Bikesh, 23)\n",
      "23\n",
      "Bikesh is being called\n"
     ]
    }
   ],
   "source": [
    "person1 = Person('Bikesh', 23)\n",
    "\n",
    "print(person1)\n",
    "print(str(person1))\n",
    "print(repr(person1))\n",
    "print(len(person1))\n",
    "print(person1())"
   ]
  },
  {
   "cell_type": "code",
   "execution_count": 6,
   "id": "fbb37ffd",
   "metadata": {},
   "outputs": [],
   "source": [
    "class Person:\n",
    "    def __init__(self, name, age):\n",
    "        self.name = name\n",
    "        self.age = age\n",
    "    \n",
    "    def __repr__(self):\n",
    "        return f'Person({self.name}, {self.age})'\n",
    "    \n",
    "    def __len__(self):\n",
    "        return self.age  # khaas maa length dine ho tara aru integer lai pani call garna milxa\n",
    "    \n",
    "    def __call__(self):\n",
    "        return f'{self.name} is being called'"
   ]
  },
  {
   "cell_type": "code",
   "execution_count": 8,
   "id": "e2db64f6",
   "metadata": {},
   "outputs": [
    {
     "name": "stdout",
     "output_type": "stream",
     "text": [
      "Person(Bikesh, 23)\n",
      "Person(Bikesh, 23)\n",
      "Person(Bikesh, 23)\n",
      "23\n",
      "Bikesh is being called\n"
     ]
    }
   ],
   "source": [
    "person1 = Person('Bikesh', 23)\n",
    "\n",
    "print(person1) # __str__ xaina vane chai __repr__ call gardo raixa\n",
    "print(str(person1))\n",
    "print(repr(person1))\n",
    "print(len(person1))\n",
    "print(person1())"
   ]
  },
  {
   "cell_type": "code",
   "execution_count": 10,
   "id": "02f9f1d7",
   "metadata": {},
   "outputs": [],
   "source": [
    "class Person:\n",
    "    def __init__(self, name, age):\n",
    "        self.name = name\n",
    "        self.age = age\n",
    "        \n",
    "    def __str__(self):\n",
    "        return f'{self.name} is {self.age} years old'\n",
    "    \n",
    "    def __len__(self):\n",
    "        return self.age  # khaas maa length dine ho tara aru integer lai pani call garna milxa\n",
    "    \n",
    "    def __call__(self):\n",
    "        return f'{self.name} is being called'"
   ]
  },
  {
   "cell_type": "code",
   "execution_count": 12,
   "id": "2fc87ba6",
   "metadata": {},
   "outputs": [
    {
     "name": "stdout",
     "output_type": "stream",
     "text": [
      "Bikesh is 23 years old\n",
      "Bikesh is 23 years old\n",
      "<__main__.Person object at 0x000001FDDAA02650>\n",
      "23\n",
      "Bikesh is being called\n"
     ]
    }
   ],
   "source": [
    "person1 = Person('Bikesh', 23)\n",
    "\n",
    "print(person1) # __str__ xaina vane chai __repr__ call gardo raixa\n",
    "print(str(person1))\n",
    "print(repr(person1))\n",
    "print(len(person1))\n",
    "print(person1())"
   ]
  },
  {
   "cell_type": "code",
   "execution_count": null,
   "id": "6fd0bb99",
   "metadata": {},
   "outputs": [],
   "source": [
    "# __main__ vanera memory location deko xa maathi"
   ]
  },
  {
   "cell_type": "markdown",
   "id": "688910f7",
   "metadata": {},
   "source": [
    "# Operator Overloading"
   ]
  },
  {
   "cell_type": "code",
   "execution_count": 25,
   "id": "48158324",
   "metadata": {},
   "outputs": [],
   "source": [
    "class Point:\n",
    "    def __init__ (self, x, y):\n",
    "        self.x = x\n",
    "        self.y = y\n",
    "    def __add__(self, other):\n",
    "        x = self.x + other.x\n",
    "        y = self.y + other.y\n",
    "        return Point(x,y)\n",
    "    def __sub__(self, other):\n",
    "        x = self.x - other.x\n",
    "        y = self.y - other.y\n",
    "        return Point(x,y)\n",
    "    def __mul__(self, other):\n",
    "        x = self.x * other.x\n",
    "        y = self.y * other.y\n",
    "        return Point(x,y)\n",
    "    def __eq__(self, other):\n",
    "        return self.x == other.x and self.y == other.y\n",
    "    def __lt__(self, other):\n",
    "        return self.x < other.x and self.y < other.y"
   ]
  },
  {
   "cell_type": "code",
   "execution_count": 26,
   "id": "61abc99b",
   "metadata": {},
   "outputs": [
    {
     "name": "stdout",
     "output_type": "stream",
     "text": [
      "<__main__.Point object at 0x000001FDDA92EE60>\n"
     ]
    }
   ],
   "source": [
    "p1 = Point(2,4)\n",
    "p2 = Point(3,6)\n",
    "\n",
    "print(p1+p2)"
   ]
  },
  {
   "cell_type": "code",
   "execution_count": 21,
   "id": "449e07ac",
   "metadata": {},
   "outputs": [
    {
     "name": "stdout",
     "output_type": "stream",
     "text": [
      "<__main__.Point object at 0x000001FDDBD8FA30>\n"
     ]
    }
   ],
   "source": [
    "p3 = p1+p2\n",
    "print(p3)"
   ]
  },
  {
   "cell_type": "code",
   "execution_count": 22,
   "id": "2f0455b1",
   "metadata": {},
   "outputs": [
    {
     "ename": "NameError",
     "evalue": "name 'add' is not defined",
     "output_type": "error",
     "traceback": [
      "\u001b[1;31m---------------------------------------------------------------------------\u001b[0m",
      "\u001b[1;31mNameError\u001b[0m                                 Traceback (most recent call last)",
      "Cell \u001b[1;32mIn[22], line 1\u001b[0m\n\u001b[1;32m----> 1\u001b[0m \u001b[38;5;28mprint\u001b[39m(\u001b[43madd\u001b[49m(p1,p2))\n",
      "\u001b[1;31mNameError\u001b[0m: name 'add' is not defined"
     ]
    }
   ],
   "source": [
    "print(add(p1,p2))"
   ]
  },
  {
   "cell_type": "code",
   "execution_count": 28,
   "id": "160aa94c",
   "metadata": {},
   "outputs": [],
   "source": [
    "class Point:\n",
    "    def __init__ (self, x, y):\n",
    "        self.x = x\n",
    "        self.y = y\n",
    "    def __add__(self, other):\n",
    "        x = self.x + other.x\n",
    "        y = self.y + other.y\n",
    "        return (x,y)\n",
    "    def __sub__(self, other):\n",
    "        x = self.x - other.x\n",
    "        y = self.y - other.y\n",
    "        return Point(x,y)\n",
    "    def __mul__(self, other):\n",
    "        x = self.x * other.x\n",
    "        y = self.y * other.y\n",
    "        return Point(x,y)\n",
    "    def __eq__(self, other):\n",
    "        return self.x == other.x and self.y == other.y\n",
    "    def __lt__(self, other):\n",
    "        return self.x < other.x and self.y < other.y"
   ]
  },
  {
   "cell_type": "code",
   "execution_count": 29,
   "id": "07555060",
   "metadata": {},
   "outputs": [
    {
     "name": "stdout",
     "output_type": "stream",
     "text": [
      "(5, 10)\n"
     ]
    }
   ],
   "source": [
    "p1 = Point(2,4)\n",
    "p2 = Point(3,6)\n",
    "\n",
    "print(p1+p2)"
   ]
  },
  {
   "cell_type": "code",
   "execution_count": null,
   "id": "eec7805f",
   "metadata": {},
   "outputs": [],
   "source": []
  }
 ],
 "metadata": {
  "kernelspec": {
   "display_name": "Python 3 (ipykernel)",
   "language": "python",
   "name": "python3"
  },
  "language_info": {
   "codemirror_mode": {
    "name": "ipython",
    "version": 3
   },
   "file_extension": ".py",
   "mimetype": "text/x-python",
   "name": "python",
   "nbconvert_exporter": "python",
   "pygments_lexer": "ipython3",
   "version": "3.10.5"
  }
 },
 "nbformat": 4,
 "nbformat_minor": 5
}
