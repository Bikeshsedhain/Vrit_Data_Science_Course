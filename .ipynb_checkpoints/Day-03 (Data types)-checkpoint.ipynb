{
 "cells": [
  {
   "cell_type": "markdown",
   "id": "3c5b8ea6",
   "metadata": {},
   "source": [
    "# Numerical types\n",
    "1. Integer (int)\n",
    "2. Fload (float)\n",
    "3. Complex number (complex numbers)"
   ]
  }
 ],
 "metadata": {
  "kernelspec": {
   "display_name": "Python 3 (ipykernel)",
   "language": "python",
   "name": "python3"
  },
  "language_info": {
   "codemirror_mode": {
    "name": "ipython",
    "version": 3
   },
   "file_extension": ".py",
   "mimetype": "text/x-python",
   "name": "python",
   "nbconvert_exporter": "python",
   "pygments_lexer": "ipython3",
   "version": "3.10.5"
  }
 },
 "nbformat": 4,
 "nbformat_minor": 5
}
