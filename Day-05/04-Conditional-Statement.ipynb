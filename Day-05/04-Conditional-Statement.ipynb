{
 "cells": [
  {
   "cell_type": "markdown",
   "id": "766e1cdd",
   "metadata": {},
   "source": [
    "## Conditional Statements\n",
    "syntax:\n",
    "```python\n",
    "if condition:\n",
    "    Do sth.\n",
    "else:\n",
    "    do sth.\n",
    "```"
   ]
  },
  {
   "cell_type": "code",
   "execution_count": 1,
   "id": "98785049",
   "metadata": {},
   "outputs": [
    {
     "name": "stdout",
     "output_type": "stream",
     "text": [
      "Enter a number:23\n"
     ]
    }
   ],
   "source": [
    "a=input('Enter a number:')"
   ]
  },
  {
   "cell_type": "code",
   "execution_count": 2,
   "id": "89830e55",
   "metadata": {},
   "outputs": [
    {
     "data": {
      "text/plain": [
       "'23'"
      ]
     },
     "execution_count": 2,
     "metadata": {},
     "output_type": "execute_result"
    }
   ],
   "source": [
    "a"
   ]
  },
  {
   "cell_type": "code",
   "execution_count": 3,
   "id": "660d6661",
   "metadata": {},
   "outputs": [
    {
     "data": {
      "text/plain": [
       "str"
      ]
     },
     "execution_count": 3,
     "metadata": {},
     "output_type": "execute_result"
    }
   ],
   "source": [
    "type(a)"
   ]
  },
  {
   "cell_type": "code",
   "execution_count": 4,
   "id": "a1c12bff",
   "metadata": {},
   "outputs": [
    {
     "name": "stdout",
     "output_type": "stream",
     "text": [
      "Enter a number: 21\n"
     ]
    }
   ],
   "source": [
    "a=int(input('Enter a number: '))"
   ]
  },
  {
   "cell_type": "code",
   "execution_count": 5,
   "id": "8bacb492",
   "metadata": {},
   "outputs": [
    {
     "data": {
      "text/plain": [
       "int"
      ]
     },
     "execution_count": 5,
     "metadata": {},
     "output_type": "execute_result"
    }
   ],
   "source": [
    "type(a)"
   ]
  },
  {
   "cell_type": "code",
   "execution_count": 6,
   "id": "6198076c",
   "metadata": {},
   "outputs": [
    {
     "name": "stdout",
     "output_type": "stream",
     "text": [
      "21 is a positive number.\n"
     ]
    }
   ],
   "source": [
    "if a>0:\n",
    "    print(f'{a} is a positive number.')\n",
    "else:\n",
    "    print('{} is not a positive number.'.format(a))"
   ]
  },
  {
   "cell_type": "markdown",
   "id": "20b145a6",
   "metadata": {},
   "source": [
    "## Multiple Conditions\n",
    "\n",
    "```python\n",
    "if condition:\n",
    "    Do sth\n",
    "elif condition 2:\n",
    "    do sth\n",
    "elif ...\n",
    ".\n",
    ".\n",
    ".\n",
    "else:\n",
    "    do sth else\n",
    "```"
   ]
  },
  {
   "cell_type": "code",
   "execution_count": 9,
   "id": "2999c0ff",
   "metadata": {},
   "outputs": [
    {
     "name": "stdout",
     "output_type": "stream",
     "text": [
      "Enter a number110\n",
      "110 is a large positive number.\n"
     ]
    }
   ],
   "source": [
    "a=int(input('Enter a number'))\n",
    "if a>100:\n",
    "    print(f'{a} is a large positive number.')\n",
    "elif a>0:\n",
    "    print(f'{a} is a small positive number.')\n",
    "elif a==0:\n",
    "    print(f'{a} is neither positive nor negative')\n",
    "else:\n",
    "    print('{} is a negative number.'.format(a))\n",
    "    "
   ]
  },
  {
   "cell_type": "code",
   "execution_count": null,
   "id": "d2cf22aa",
   "metadata": {},
   "outputs": [],
   "source": []
  }
 ],
 "metadata": {
  "kernelspec": {
   "display_name": "Python 3 (ipykernel)",
   "language": "python",
   "name": "python3"
  },
  "language_info": {
   "codemirror_mode": {
    "name": "ipython",
    "version": 3
   },
   "file_extension": ".py",
   "mimetype": "text/x-python",
   "name": "python",
   "nbconvert_exporter": "python",
   "pygments_lexer": "ipython3",
   "version": "3.10.5"
  }
 },
 "nbformat": 4,
 "nbformat_minor": 5
}
