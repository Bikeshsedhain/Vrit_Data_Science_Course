{
 "cells": [
  {
   "cell_type": "markdown",
   "id": "e3418dcb",
   "metadata": {},
   "source": [
    "## Set"
   ]
  },
  {
   "cell_type": "code",
   "execution_count": 1,
   "id": "983db672",
   "metadata": {},
   "outputs": [],
   "source": [
    "a= [1,2,3,4,1,3,4,5,6]"
   ]
  },
  {
   "cell_type": "code",
   "execution_count": 2,
   "id": "f3b64eb0",
   "metadata": {},
   "outputs": [
    {
     "data": {
      "text/plain": [
       "list"
      ]
     },
     "execution_count": 2,
     "metadata": {},
     "output_type": "execute_result"
    }
   ],
   "source": [
    "type(a)"
   ]
  },
  {
   "cell_type": "code",
   "execution_count": 3,
   "id": "96fdd151",
   "metadata": {},
   "outputs": [],
   "source": [
    "#{1,2}\n",
    "a=set(a)"
   ]
  },
  {
   "cell_type": "code",
   "execution_count": 4,
   "id": "469a9df5",
   "metadata": {},
   "outputs": [
    {
     "data": {
      "text/plain": [
       "{1, 2, 3, 4, 5, 6}"
      ]
     },
     "execution_count": 4,
     "metadata": {},
     "output_type": "execute_result"
    }
   ],
   "source": [
    "a"
   ]
  },
  {
   "cell_type": "markdown",
   "id": "4aca6610",
   "metadata": {},
   "source": [
    "## Set Methods"
   ]
  },
  {
   "cell_type": "code",
   "execution_count": 5,
   "id": "d9b7c22a",
   "metadata": {},
   "outputs": [
    {
     "data": {
      "text/plain": [
       "{1, 2, 3, 4, 5, 6}"
      ]
     },
     "execution_count": 5,
     "metadata": {},
     "output_type": "execute_result"
    }
   ],
   "source": [
    "a"
   ]
  },
  {
   "cell_type": "code",
   "execution_count": 6,
   "id": "38b6a4f0",
   "metadata": {},
   "outputs": [],
   "source": [
    "b={2,4,6,8,10}"
   ]
  },
  {
   "cell_type": "code",
   "execution_count": 7,
   "id": "3ed00933",
   "metadata": {},
   "outputs": [
    {
     "data": {
      "text/plain": [
       "{1, 2, 3, 4, 5, 6, 8, 10}"
      ]
     },
     "execution_count": 7,
     "metadata": {},
     "output_type": "execute_result"
    }
   ],
   "source": [
    "a.union(b)"
   ]
  },
  {
   "cell_type": "code",
   "execution_count": 8,
   "id": "58713076",
   "metadata": {},
   "outputs": [
    {
     "data": {
      "text/plain": [
       "{2, 4, 6}"
      ]
     },
     "execution_count": 8,
     "metadata": {},
     "output_type": "execute_result"
    }
   ],
   "source": [
    "a.intersection(b)"
   ]
  },
  {
   "cell_type": "code",
   "execution_count": 9,
   "id": "e9ae935d",
   "metadata": {},
   "outputs": [
    {
     "data": {
      "text/plain": [
       "{1, 3, 5}"
      ]
     },
     "execution_count": 9,
     "metadata": {},
     "output_type": "execute_result"
    }
   ],
   "source": [
    "a.difference(b)"
   ]
  },
  {
   "cell_type": "markdown",
   "id": "edd569d8",
   "metadata": {},
   "source": [
    "## Modifying Set"
   ]
  },
  {
   "cell_type": "code",
   "execution_count": 10,
   "id": "e645e784",
   "metadata": {},
   "outputs": [],
   "source": [
    "b.add(12)"
   ]
  },
  {
   "cell_type": "code",
   "execution_count": 11,
   "id": "cbc39c5c",
   "metadata": {},
   "outputs": [
    {
     "data": {
      "text/plain": [
       "{2, 4, 6, 8, 10, 12}"
      ]
     },
     "execution_count": 11,
     "metadata": {},
     "output_type": "execute_result"
    }
   ],
   "source": [
    "b"
   ]
  },
  {
   "cell_type": "code",
   "execution_count": 12,
   "id": "39f977a8",
   "metadata": {},
   "outputs": [],
   "source": [
    "b.remove(12)"
   ]
  },
  {
   "cell_type": "code",
   "execution_count": 13,
   "id": "d3a8dd33",
   "metadata": {},
   "outputs": [
    {
     "data": {
      "text/plain": [
       "{2, 4, 6, 8, 10}"
      ]
     },
     "execution_count": 13,
     "metadata": {},
     "output_type": "execute_result"
    }
   ],
   "source": [
    "b"
   ]
  },
  {
   "cell_type": "code",
   "execution_count": 14,
   "id": "1240754a",
   "metadata": {},
   "outputs": [],
   "source": [
    "b.clear()"
   ]
  },
  {
   "cell_type": "code",
   "execution_count": 15,
   "id": "ee93abf6",
   "metadata": {},
   "outputs": [
    {
     "data": {
      "text/plain": [
       "set()"
      ]
     },
     "execution_count": 15,
     "metadata": {},
     "output_type": "execute_result"
    }
   ],
   "source": [
    "b"
   ]
  },
  {
   "cell_type": "markdown",
   "id": "08a651eb",
   "metadata": {},
   "source": [
    "## Advance Index"
   ]
  },
  {
   "cell_type": "code",
   "execution_count": 16,
   "id": "8ad03edb",
   "metadata": {},
   "outputs": [],
   "source": [
    "a=[1,2,3,1,2]\n",
    "z=a.index(1)"
   ]
  },
  {
   "cell_type": "code",
   "execution_count": 17,
   "id": "e6f7dd1a",
   "metadata": {},
   "outputs": [
    {
     "data": {
      "text/plain": [
       "0"
      ]
     },
     "execution_count": 17,
     "metadata": {},
     "output_type": "execute_result"
    }
   ],
   "source": [
    "z"
   ]
  },
  {
   "cell_type": "code",
   "execution_count": 18,
   "id": "ea46613a",
   "metadata": {},
   "outputs": [
    {
     "data": {
      "text/plain": [
       "3"
      ]
     },
     "execution_count": 18,
     "metadata": {},
     "output_type": "execute_result"
    }
   ],
   "source": [
    "a.index(1,z+1)"
   ]
  },
  {
   "cell_type": "code",
   "execution_count": null,
   "id": "8588af13",
   "metadata": {},
   "outputs": [],
   "source": []
  }
 ],
 "metadata": {
  "kernelspec": {
   "display_name": "Python 3 (ipykernel)",
   "language": "python",
   "name": "python3"
  },
  "language_info": {
   "codemirror_mode": {
    "name": "ipython",
    "version": 3
   },
   "file_extension": ".py",
   "mimetype": "text/x-python",
   "name": "python",
   "nbconvert_exporter": "python",
   "pygments_lexer": "ipython3",
   "version": "3.10.5"
  }
 },
 "nbformat": 4,
 "nbformat_minor": 5
}
