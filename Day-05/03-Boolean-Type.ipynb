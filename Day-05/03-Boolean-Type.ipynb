{
 "cells": [
  {
   "cell_type": "markdown",
   "id": "34d81d74",
   "metadata": {},
   "source": [
    "## Boolean Data Type\n",
    "True or False"
   ]
  },
  {
   "cell_type": "code",
   "execution_count": 1,
   "id": "093b86ae",
   "metadata": {},
   "outputs": [],
   "source": [
    "a=10\n",
    "b=4"
   ]
  },
  {
   "cell_type": "code",
   "execution_count": 2,
   "id": "52aad1f2",
   "metadata": {},
   "outputs": [
    {
     "data": {
      "text/plain": [
       "True"
      ]
     },
     "execution_count": 2,
     "metadata": {},
     "output_type": "execute_result"
    }
   ],
   "source": [
    "a>b"
   ]
  },
  {
   "cell_type": "code",
   "execution_count": 3,
   "id": "1608fae1",
   "metadata": {},
   "outputs": [
    {
     "data": {
      "text/plain": [
       "False"
      ]
     },
     "execution_count": 3,
     "metadata": {},
     "output_type": "execute_result"
    }
   ],
   "source": [
    "b==a"
   ]
  },
  {
   "cell_type": "markdown",
   "id": "a69494e9",
   "metadata": {},
   "source": [
    "## Boolean Operations\n",
    "'and', 'or', 'not'"
   ]
  },
  {
   "cell_type": "code",
   "execution_count": 4,
   "id": "94b2750f",
   "metadata": {},
   "outputs": [],
   "source": [
    "c=True\n",
    "d=False\n",
    "e=True"
   ]
  },
  {
   "cell_type": "code",
   "execution_count": 5,
   "id": "905a78bf",
   "metadata": {},
   "outputs": [
    {
     "data": {
      "text/plain": [
       "False"
      ]
     },
     "execution_count": 5,
     "metadata": {},
     "output_type": "execute_result"
    }
   ],
   "source": [
    "c and d"
   ]
  },
  {
   "cell_type": "code",
   "execution_count": 6,
   "id": "bb6cc01f",
   "metadata": {},
   "outputs": [
    {
     "data": {
      "text/plain": [
       "True"
      ]
     },
     "execution_count": 6,
     "metadata": {},
     "output_type": "execute_result"
    }
   ],
   "source": [
    "c or d"
   ]
  },
  {
   "cell_type": "code",
   "execution_count": 7,
   "id": "609140cb",
   "metadata": {},
   "outputs": [
    {
     "data": {
      "text/plain": [
       "False"
      ]
     },
     "execution_count": 7,
     "metadata": {},
     "output_type": "execute_result"
    }
   ],
   "source": [
    "not c"
   ]
  },
  {
   "cell_type": "code",
   "execution_count": 8,
   "id": "7201802e",
   "metadata": {},
   "outputs": [
    {
     "data": {
      "text/plain": [
       "True"
      ]
     },
     "execution_count": 8,
     "metadata": {},
     "output_type": "execute_result"
    }
   ],
   "source": [
    "not d"
   ]
  },
  {
   "cell_type": "markdown",
   "id": "f54c51d3",
   "metadata": {},
   "source": [
    "## Playing with Other Date Types"
   ]
  },
  {
   "cell_type": "code",
   "execution_count": 10,
   "id": "ee9bdf4a",
   "metadata": {},
   "outputs": [],
   "source": [
    "a=[]\n",
    "b=[1,'abc']\n",
    "c={}\n",
    "d={1,2}\n",
    "e=()\n",
    "f=(3,4)"
   ]
  },
  {
   "cell_type": "code",
   "execution_count": 11,
   "id": "ea08d9d4",
   "metadata": {},
   "outputs": [
    {
     "data": {
      "text/plain": [
       "False"
      ]
     },
     "execution_count": 11,
     "metadata": {},
     "output_type": "execute_result"
    }
   ],
   "source": [
    "bool(a)"
   ]
  },
  {
   "cell_type": "code",
   "execution_count": 12,
   "id": "b488a461",
   "metadata": {},
   "outputs": [
    {
     "data": {
      "text/plain": [
       "True"
      ]
     },
     "execution_count": 12,
     "metadata": {},
     "output_type": "execute_result"
    }
   ],
   "source": [
    "bool(b)"
   ]
  },
  {
   "cell_type": "code",
   "execution_count": null,
   "id": "2d09abe0",
   "metadata": {},
   "outputs": [],
   "source": []
  }
 ],
 "metadata": {
  "kernelspec": {
   "display_name": "Python 3 (ipykernel)",
   "language": "python",
   "name": "python3"
  },
  "language_info": {
   "codemirror_mode": {
    "name": "ipython",
    "version": 3
   },
   "file_extension": ".py",
   "mimetype": "text/x-python",
   "name": "python",
   "nbconvert_exporter": "python",
   "pygments_lexer": "ipython3",
   "version": "3.10.5"
  }
 },
 "nbformat": 4,
 "nbformat_minor": 5
}
