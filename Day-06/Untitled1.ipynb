{
 "cells": [
  {
   "cell_type": "markdown",
   "id": "5f348044",
   "metadata": {},
   "source": [
    "## Functions\n",
    "\n",
    "f(x) = x**2\n",
    "f(2)\n",
    "\n",
    "```python\n",
    "def FUNCTION_NAME(arg1,arg2,...):\n",
    "    Do Something\n",
    "    return something\n",
    "```"
   ]
  },
  {
   "cell_type": "code",
   "execution_count": 3,
   "id": "7f208f09",
   "metadata": {},
   "outputs": [],
   "source": [
    "def square(x):\n",
    "    y=x**2 #local variable\n",
    "    return y #we can also return x**2 directly"
   ]
  },
  {
   "cell_type": "code",
   "execution_count": 5,
   "id": "c4324c55",
   "metadata": {},
   "outputs": [
    {
     "data": {
      "text/plain": [
       "16"
      ]
     },
     "execution_count": 5,
     "metadata": {},
     "output_type": "execute_result"
    }
   ],
   "source": [
    "square(4) #Function calling"
   ]
  },
  {
   "cell_type": "code",
   "execution_count": 6,
   "id": "7e39ed39",
   "metadata": {},
   "outputs": [],
   "source": [
    "def square(x,y):\n",
    "    z=x**y\n",
    "    return x,y,z"
   ]
  },
  {
   "cell_type": "code",
   "execution_count": 9,
   "id": "bf39ecca",
   "metadata": {},
   "outputs": [],
   "source": [
    "value = square(2,3)"
   ]
  },
  {
   "cell_type": "code",
   "execution_count": 23,
   "id": "f9fabd4b",
   "metadata": {},
   "outputs": [
    {
     "data": {
      "text/plain": [
       "(2, 3, 8)"
      ]
     },
     "execution_count": 23,
     "metadata": {},
     "output_type": "execute_result"
    }
   ],
   "source": [
    "value"
   ]
  },
  {
   "cell_type": "markdown",
   "id": "54148e88",
   "metadata": {},
   "source": [
    "## Keyword Argument"
   ]
  },
  {
   "cell_type": "code",
   "execution_count": 11,
   "id": "4a363a93",
   "metadata": {},
   "outputs": [],
   "source": [
    "def power_calc(x=1,y=1):\n",
    "    z=x**y\n",
    "    return x,y,z"
   ]
  },
  {
   "cell_type": "code",
   "execution_count": 12,
   "id": "15081ca3",
   "metadata": {},
   "outputs": [],
   "source": [
    "val, power, result = power_calc(2,3)"
   ]
  },
  {
   "cell_type": "code",
   "execution_count": 13,
   "id": "a10f7a84",
   "metadata": {},
   "outputs": [
    {
     "data": {
      "text/plain": [
       "(2, 3, 8)"
      ]
     },
     "execution_count": 13,
     "metadata": {},
     "output_type": "execute_result"
    }
   ],
   "source": [
    "val,power,result"
   ]
  },
  {
   "cell_type": "code",
   "execution_count": 14,
   "id": "a2604e47",
   "metadata": {},
   "outputs": [],
   "source": [
    "val, power, result = power_calc()"
   ]
  },
  {
   "cell_type": "code",
   "execution_count": 15,
   "id": "421a2f88",
   "metadata": {},
   "outputs": [
    {
     "data": {
      "text/plain": [
       "(1, 1, 1)"
      ]
     },
     "execution_count": 15,
     "metadata": {},
     "output_type": "execute_result"
    }
   ],
   "source": [
    "val, power, result"
   ]
  },
  {
   "cell_type": "code",
   "execution_count": 16,
   "id": "8187cbbc",
   "metadata": {},
   "outputs": [],
   "source": [
    "val, power, result =power_calc(2)"
   ]
  },
  {
   "cell_type": "code",
   "execution_count": 17,
   "id": "d2f0b74b",
   "metadata": {},
   "outputs": [
    {
     "data": {
      "text/plain": [
       "(2, 1, 2)"
      ]
     },
     "execution_count": 17,
     "metadata": {},
     "output_type": "execute_result"
    }
   ],
   "source": [
    "val, power, result"
   ]
  },
  {
   "cell_type": "code",
   "execution_count": 18,
   "id": "076da307",
   "metadata": {},
   "outputs": [],
   "source": [
    "val, power, result = power_calc(y=3)"
   ]
  },
  {
   "cell_type": "code",
   "execution_count": 19,
   "id": "8ef1d882",
   "metadata": {},
   "outputs": [
    {
     "data": {
      "text/plain": [
       "(1, 3, 1)"
      ]
     },
     "execution_count": 19,
     "metadata": {},
     "output_type": "execute_result"
    }
   ],
   "source": [
    "val, power, result"
   ]
  },
  {
   "cell_type": "code",
   "execution_count": 20,
   "id": "beec4389",
   "metadata": {},
   "outputs": [],
   "source": [
    "def power_calc(x=1,y=1):\n",
    "    z=x**y\n",
    "    return {'x':x,'y':y,'z':z}"
   ]
  },
  {
   "cell_type": "code",
   "execution_count": 21,
   "id": "49c4945c",
   "metadata": {},
   "outputs": [],
   "source": [
    "result = power_calc(3,4)"
   ]
  },
  {
   "cell_type": "code",
   "execution_count": 22,
   "id": "ce1ff4b3",
   "metadata": {},
   "outputs": [
    {
     "data": {
      "text/plain": [
       "81"
      ]
     },
     "execution_count": 22,
     "metadata": {},
     "output_type": "execute_result"
    }
   ],
   "source": [
    "result['z']"
   ]
  },
  {
   "cell_type": "markdown",
   "id": "7ec03a97",
   "metadata": {},
   "source": [
    "## Args and kwargs"
   ]
  },
  {
   "cell_type": "code",
   "execution_count": 34,
   "id": "7e29cbe3",
   "metadata": {},
   "outputs": [],
   "source": [
    "def func(*args, **kwargs):\n",
    "    for item in args:\n",
    "        print(item)\n",
    "    for key, val in kwargs.items():\n",
    "        print(key, val)"
   ]
  },
  {
   "cell_type": "code",
   "execution_count": 35,
   "id": "fe93be25",
   "metadata": {},
   "outputs": [
    {
     "name": "stdout",
     "output_type": "stream",
     "text": [
      "1\n",
      "aba\n",
      "name vrit\n",
      "address shankhamul\n"
     ]
    }
   ],
   "source": [
    "func(1, 'aba', name='vrit', address='shankhamul')"
   ]
  },
  {
   "cell_type": "code",
   "execution_count": 36,
   "id": "4f74fd1e",
   "metadata": {},
   "outputs": [],
   "source": [
    "#sequence define \n",
    "\n",
    "def sum_of_sequence(*args):\n",
    "    sum=0\n",
    "    for i in args:\n",
    "        sum+=i\n",
    "    return sum"
   ]
  },
  {
   "cell_type": "code",
   "execution_count": 39,
   "id": "c96313d7",
   "metadata": {},
   "outputs": [],
   "source": [
    "a=[1,2,3]\n",
    "b=[4,5,6,7]\n",
    "c=[8,9,10,11,12]"
   ]
  },
  {
   "cell_type": "code",
   "execution_count": 40,
   "id": "65fdf65c",
   "metadata": {},
   "outputs": [
    {
     "data": {
      "text/plain": [
       "int"
      ]
     },
     "execution_count": 40,
     "metadata": {},
     "output_type": "execute_result"
    }
   ],
   "source": [
    "type(a[1])"
   ]
  },
  {
   "cell_type": "code",
   "execution_count": 41,
   "id": "0cfb18a9",
   "metadata": {},
   "outputs": [
    {
     "data": {
      "text/plain": [
       "2"
      ]
     },
     "execution_count": 41,
     "metadata": {},
     "output_type": "execute_result"
    }
   ],
   "source": [
    "a[1]"
   ]
  },
  {
   "cell_type": "code",
   "execution_count": 43,
   "id": "e1f26660",
   "metadata": {},
   "outputs": [
    {
     "ename": "TypeError",
     "evalue": "unsupported operand type(s) for +=: 'int' and 'list'",
     "output_type": "error",
     "traceback": [
      "\u001b[1;31m---------------------------------------------------------------------------\u001b[0m",
      "\u001b[1;31mTypeError\u001b[0m                                 Traceback (most recent call last)",
      "Cell \u001b[1;32mIn[43], line 1\u001b[0m\n\u001b[1;32m----> 1\u001b[0m suma\u001b[38;5;241m=\u001b[39m\u001b[43msum_of_sequence\u001b[49m\u001b[43m(\u001b[49m\u001b[43ma\u001b[49m\u001b[43m)\u001b[49m\n",
      "Cell \u001b[1;32mIn[36], line 6\u001b[0m, in \u001b[0;36msum_of_sequence\u001b[1;34m(*args)\u001b[0m\n\u001b[0;32m      4\u001b[0m \u001b[38;5;28msum\u001b[39m\u001b[38;5;241m=\u001b[39m\u001b[38;5;241m0\u001b[39m\n\u001b[0;32m      5\u001b[0m \u001b[38;5;28;01mfor\u001b[39;00m i \u001b[38;5;129;01min\u001b[39;00m args:\n\u001b[1;32m----> 6\u001b[0m     \u001b[38;5;28msum\u001b[39m\u001b[38;5;241m+\u001b[39m\u001b[38;5;241m=\u001b[39mi\n\u001b[0;32m      7\u001b[0m \u001b[38;5;28;01mreturn\u001b[39;00m \u001b[38;5;28msum\u001b[39m\n",
      "\u001b[1;31mTypeError\u001b[0m: unsupported operand type(s) for +=: 'int' and 'list'"
     ]
    }
   ],
   "source": [
    "suma=sum_of_sequence(a)"
   ]
  },
  {
   "cell_type": "code",
   "execution_count": null,
   "id": "148ed92d",
   "metadata": {},
   "outputs": [],
   "source": []
  }
 ],
 "metadata": {
  "kernelspec": {
   "display_name": "Python 3 (ipykernel)",
   "language": "python",
   "name": "python3"
  },
  "language_info": {
   "codemirror_mode": {
    "name": "ipython",
    "version": 3
   },
   "file_extension": ".py",
   "mimetype": "text/x-python",
   "name": "python",
   "nbconvert_exporter": "python",
   "pygments_lexer": "ipython3",
   "version": "3.10.5"
  }
 },
 "nbformat": 4,
 "nbformat_minor": 5
}
