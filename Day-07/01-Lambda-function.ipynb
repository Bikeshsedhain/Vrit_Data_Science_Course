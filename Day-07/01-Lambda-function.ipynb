{
 "cells": [
  {
   "cell_type": "markdown",
   "id": "df203e89",
   "metadata": {},
   "source": [
    "## Lambda Function\n",
    "Anonymous Function\n",
    "c++: Inline Function"
   ]
  },
  {
   "cell_type": "code",
   "execution_count": 4,
   "id": "85034380",
   "metadata": {},
   "outputs": [],
   "source": [
    "#def square(x):\n",
    " #   return x**2\n",
    "square = lambda x:x**2"
   ]
  },
  {
   "cell_type": "code",
   "execution_count": 5,
   "id": "3f92c5a6",
   "metadata": {},
   "outputs": [
    {
     "data": {
      "text/plain": [
       "9"
      ]
     },
     "execution_count": 5,
     "metadata": {},
     "output_type": "execute_result"
    }
   ],
   "source": [
    "num = 3\n",
    "square(3)"
   ]
  },
  {
   "cell_type": "code",
   "execution_count": 6,
   "id": "57124040",
   "metadata": {},
   "outputs": [],
   "source": [
    "#def sum(x,y):\n",
    " #   return x+y\n",
    "sums = lambda x,y: x+y"
   ]
  },
  {
   "cell_type": "code",
   "execution_count": 7,
   "id": "1793ef82",
   "metadata": {},
   "outputs": [
    {
     "data": {
      "text/plain": [
       "7"
      ]
     },
     "execution_count": 7,
     "metadata": {},
     "output_type": "execute_result"
    }
   ],
   "source": [
    "sums(3,4)"
   ]
  },
  {
   "cell_type": "code",
   "execution_count": 8,
   "id": "30a76d8c",
   "metadata": {},
   "outputs": [],
   "source": [
    "sums= lambda a: sum(a)"
   ]
  },
  {
   "cell_type": "code",
   "execution_count": 9,
   "id": "2f1bfd80",
   "metadata": {},
   "outputs": [
    {
     "data": {
      "text/plain": [
       "6"
      ]
     },
     "execution_count": 9,
     "metadata": {},
     "output_type": "execute_result"
    }
   ],
   "source": [
    "sums([1,2,3])"
   ]
  },
  {
   "cell_type": "code",
   "execution_count": 10,
   "id": "ec63c95d",
   "metadata": {},
   "outputs": [],
   "source": [
    "a=[1,2,3,4]"
   ]
  },
  {
   "cell_type": "code",
   "execution_count": 11,
   "id": "b5e88760",
   "metadata": {},
   "outputs": [
    {
     "data": {
      "text/plain": [
       "10"
      ]
     },
     "execution_count": 11,
     "metadata": {},
     "output_type": "execute_result"
    }
   ],
   "source": [
    "sums(a)"
   ]
  },
  {
   "cell_type": "code",
   "execution_count": 1,
   "id": "014a5d52",
   "metadata": {},
   "outputs": [],
   "source": [
    "def square(x):\n",
    "    return x**2"
   ]
  },
  {
   "cell_type": "code",
   "execution_count": 2,
   "id": "6c0595bd",
   "metadata": {},
   "outputs": [],
   "source": [
    "sq_calc = lambda x: square(x)"
   ]
  },
  {
   "cell_type": "code",
   "execution_count": 3,
   "id": "f1495542",
   "metadata": {},
   "outputs": [
    {
     "data": {
      "text/plain": [
       "25"
      ]
     },
     "execution_count": 3,
     "metadata": {},
     "output_type": "execute_result"
    }
   ],
   "source": [
    "sq_calc(5)"
   ]
  },
  {
   "cell_type": "code",
   "execution_count": null,
   "id": "556c7186",
   "metadata": {},
   "outputs": [],
   "source": []
  }
 ],
 "metadata": {
  "kernelspec": {
   "display_name": "Python 3 (ipykernel)",
   "language": "python",
   "name": "python3"
  },
  "language_info": {
   "codemirror_mode": {
    "name": "ipython",
    "version": 3
   },
   "file_extension": ".py",
   "mimetype": "text/x-python",
   "name": "python",
   "nbconvert_exporter": "python",
   "pygments_lexer": "ipython3",
   "version": "3.10.5"
  }
 },
 "nbformat": 4,
 "nbformat_minor": 5
}
