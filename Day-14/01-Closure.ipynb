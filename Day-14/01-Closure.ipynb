{
 "cells": [
  {
   "cell_type": "code",
   "execution_count": 1,
   "id": "f4d93d0d",
   "metadata": {},
   "outputs": [],
   "source": [
    "def outer_function(x):\n",
    "    def inner_function(y):\n",
    "        return x+y\n",
    "    return inner_function"
   ]
  },
  {
   "cell_type": "code",
   "execution_count": 2,
   "id": "ed8f2383",
   "metadata": {},
   "outputs": [
    {
     "name": "stdout",
     "output_type": "stream",
     "text": [
      "<function outer_function.<locals>.inner_function at 0x000001BFD23CC4C0>\n"
     ]
    }
   ],
   "source": [
    "closure = outer_function(4)\n",
    "print(closure)"
   ]
  },
  {
   "cell_type": "code",
   "execution_count": 3,
   "id": "a4c9a0d2",
   "metadata": {},
   "outputs": [
    {
     "data": {
      "text/plain": [
       "function"
      ]
     },
     "execution_count": 3,
     "metadata": {},
     "output_type": "execute_result"
    }
   ],
   "source": [
    "type(closure)"
   ]
  },
  {
   "cell_type": "code",
   "execution_count": 4,
   "id": "d98cc299",
   "metadata": {},
   "outputs": [
    {
     "name": "stdout",
     "output_type": "stream",
     "text": [
      "7\n"
     ]
    }
   ],
   "source": [
    "result = closure(3)\n",
    "result = closure(3) \n",
    "# closure does not hold a value for a data type or a class type\n",
    "# return maa j xa, closure le tyai linxa\n",
    "print(result)"
   ]
  },
  {
   "cell_type": "code",
   "execution_count": 5,
   "id": "d5d42db8",
   "metadata": {},
   "outputs": [],
   "source": [
    "def outer_function(x):\n",
    "    def inner_function(y):\n",
    "        return x+y\n",
    "    def inner_function2():\n",
    "        pass\n",
    "    return inner_function, inner_function2"
   ]
  },
  {
   "cell_type": "code",
   "execution_count": 6,
   "id": "e5f1d5d0",
   "metadata": {},
   "outputs": [],
   "source": [
    "closure = outer_function(4)"
   ]
  },
  {
   "cell_type": "code",
   "execution_count": 7,
   "id": "04633489",
   "metadata": {},
   "outputs": [
    {
     "ename": "TypeError",
     "evalue": "'tuple' object is not callable",
     "output_type": "error",
     "traceback": [
      "\u001b[1;31m---------------------------------------------------------------------------\u001b[0m",
      "\u001b[1;31mTypeError\u001b[0m                                 Traceback (most recent call last)",
      "Cell \u001b[1;32mIn[7], line 1\u001b[0m\n\u001b[1;32m----> 1\u001b[0m \u001b[43mclosure\u001b[49m\u001b[43m(\u001b[49m\u001b[43m)\u001b[49m\n",
      "\u001b[1;31mTypeError\u001b[0m: 'tuple' object is not callable"
     ]
    }
   ],
   "source": [
    "closure()"
   ]
  },
  {
   "cell_type": "code",
   "execution_count": 8,
   "id": "e84e29ff",
   "metadata": {},
   "outputs": [
    {
     "data": {
      "text/plain": [
       "6"
      ]
     },
     "execution_count": 8,
     "metadata": {},
     "output_type": "execute_result"
    }
   ],
   "source": [
    "closure[0](2)"
   ]
  },
  {
   "cell_type": "code",
   "execution_count": 9,
   "id": "15f3726b",
   "metadata": {},
   "outputs": [],
   "source": [
    "# closure[0] le chai inner_function lai matra call garyo, arko lai garena\n"
   ]
  },
  {
   "cell_type": "code",
   "execution_count": 10,
   "id": "c9a13689",
   "metadata": {},
   "outputs": [],
   "source": [
    "closure1, closure2 = outer_function(4)\n",
    "# closure1 = inner_function()\n",
    "# closure2 = inner_function2()\n"
   ]
  },
  {
   "cell_type": "code",
   "execution_count": 11,
   "id": "86a21c21",
   "metadata": {},
   "outputs": [],
   "source": [
    "def counter():\n",
    "    count = 0\n",
    "    def inner():\n",
    "        nonlocal count\n",
    "        count +=1\n",
    "        return count\n",
    "    return inner"
   ]
  },
  {
   "cell_type": "code",
   "execution_count": 13,
   "id": "38685429",
   "metadata": {},
   "outputs": [
    {
     "name": "stdout",
     "output_type": "stream",
     "text": [
      "1\n",
      "2\n",
      "3\n",
      "4\n",
      "\n",
      "1\n",
      "2\n"
     ]
    }
   ],
   "source": [
    "c1 = counter()\n",
    "print(c1())\n",
    "print(c1())\n",
    "print(c1())\n",
    "print(c1())\n",
    "print()\n",
    "c2 = counter()\n",
    "print(c2())\n",
    "print(c2())"
   ]
  },
  {
   "cell_type": "code",
   "execution_count": null,
   "id": "02ac5f75",
   "metadata": {},
   "outputs": [],
   "source": []
  }
 ],
 "metadata": {
  "kernelspec": {
   "display_name": "Python 3 (ipykernel)",
   "language": "python",
   "name": "python3"
  },
  "language_info": {
   "codemirror_mode": {
    "name": "ipython",
    "version": 3
   },
   "file_extension": ".py",
   "mimetype": "text/x-python",
   "name": "python",
   "nbconvert_exporter": "python",
   "pygments_lexer": "ipython3",
   "version": "3.10.5"
  }
 },
 "nbformat": 4,
 "nbformat_minor": 5
}
