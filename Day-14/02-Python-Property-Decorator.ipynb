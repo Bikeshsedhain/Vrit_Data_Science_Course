{
 "cells": [
  {
   "cell_type": "markdown",
   "id": "0c561994",
   "metadata": {},
   "source": [
    "# Getter"
   ]
  },
  {
   "cell_type": "code",
   "execution_count": 5,
   "id": "d16acb43",
   "metadata": {},
   "outputs": [],
   "source": [
    "class Person:\n",
    "    def __init__(self, name):\n",
    "        self._name = name\n",
    "        \n",
    "    @property\n",
    "    def name(self):\n",
    "        print(\"Getting name...\")\n",
    "        return self._name"
   ]
  },
  {
   "cell_type": "code",
   "execution_count": 7,
   "id": "6f265811",
   "metadata": {},
   "outputs": [
    {
     "name": "stdout",
     "output_type": "stream",
     "text": [
      "Getting name...\n",
      "Bikesh\n"
     ]
    }
   ],
   "source": [
    "person = Person(\"Bikesh\")\n",
    "print(person.name)"
   ]
  },
  {
   "cell_type": "markdown",
   "id": "4ba9623a",
   "metadata": {},
   "source": [
    "# Setter"
   ]
  },
  {
   "cell_type": "code",
   "execution_count": 8,
   "id": "1e05428d",
   "metadata": {},
   "outputs": [],
   "source": [
    "class Person:\n",
    "    def __init__(self, name):\n",
    "        self._name = name\n",
    "    @property\n",
    "    def name(self):\n",
    "        print(\"Getting name...\")\n",
    "        return self._name\n",
    "    @name.setter\n",
    "    def name(self, value):\n",
    "        print(\"setting name...\")\n",
    "        self._name = value"
   ]
  },
  {
   "cell_type": "code",
   "execution_count": 9,
   "id": "d7e5d3ee",
   "metadata": {},
   "outputs": [
    {
     "name": "stdout",
     "output_type": "stream",
     "text": [
      "Getting name...\n",
      "Bikesh\n",
      "setting name...\n",
      "Getting name...\n",
      "Binod\n"
     ]
    }
   ],
   "source": [
    "person = Person(\"Bikesh\")\n",
    "print(person.name)\n",
    "person.name = \"Binod\"\n",
    "print(person.name)"
   ]
  },
  {
   "cell_type": "markdown",
   "id": "484d4d74",
   "metadata": {},
   "source": [
    "# Deleter"
   ]
  },
  {
   "cell_type": "code",
   "execution_count": 10,
   "id": "fdae91d0",
   "metadata": {},
   "outputs": [],
   "source": [
    "class Person:\n",
    "    def __init__(self, name):\n",
    "        self._name = name\n",
    "    @property\n",
    "    def name(self):\n",
    "        print(\"Getting name...\")\n",
    "        return self._name\n",
    "    @name.setter\n",
    "    def name(self, value):\n",
    "        print(\"setting name...\")\n",
    "        self._name = value\n",
    "    @name.deleter\n",
    "    def name(self):\n",
    "        print('Deleting items')\n",
    "        del self._name"
   ]
  },
  {
   "cell_type": "code",
   "execution_count": 11,
   "id": "4c96e99e",
   "metadata": {},
   "outputs": [
    {
     "name": "stdout",
     "output_type": "stream",
     "text": [
      "Getting name...\n",
      "Bikesh\n",
      "Deleting items\n",
      "Getting name...\n"
     ]
    },
    {
     "ename": "AttributeError",
     "evalue": "'Person' object has no attribute '_name'",
     "output_type": "error",
     "traceback": [
      "\u001b[1;31m---------------------------------------------------------------------------\u001b[0m",
      "\u001b[1;31mAttributeError\u001b[0m                            Traceback (most recent call last)",
      "Cell \u001b[1;32mIn[11], line 4\u001b[0m\n\u001b[0;32m      2\u001b[0m \u001b[38;5;28mprint\u001b[39m(person\u001b[38;5;241m.\u001b[39mname)\n\u001b[0;32m      3\u001b[0m \u001b[38;5;28;01mdel\u001b[39;00m person\u001b[38;5;241m.\u001b[39mname\n\u001b[1;32m----> 4\u001b[0m \u001b[38;5;28mprint\u001b[39m(\u001b[43mperson\u001b[49m\u001b[38;5;241;43m.\u001b[39;49m\u001b[43mname\u001b[49m)\n",
      "Cell \u001b[1;32mIn[10], line 7\u001b[0m, in \u001b[0;36mPerson.name\u001b[1;34m(self)\u001b[0m\n\u001b[0;32m      4\u001b[0m \u001b[38;5;129m@property\u001b[39m\n\u001b[0;32m      5\u001b[0m \u001b[38;5;28;01mdef\u001b[39;00m \u001b[38;5;21mname\u001b[39m(\u001b[38;5;28mself\u001b[39m):\n\u001b[0;32m      6\u001b[0m     \u001b[38;5;28mprint\u001b[39m(\u001b[38;5;124m\"\u001b[39m\u001b[38;5;124mGetting name...\u001b[39m\u001b[38;5;124m\"\u001b[39m)\n\u001b[1;32m----> 7\u001b[0m     \u001b[38;5;28;01mreturn\u001b[39;00m \u001b[38;5;28;43mself\u001b[39;49m\u001b[38;5;241;43m.\u001b[39;49m\u001b[43m_name\u001b[49m\n",
      "\u001b[1;31mAttributeError\u001b[0m: 'Person' object has no attribute '_name'"
     ]
    }
   ],
   "source": [
    "person = Person(\"Bikesh\")\n",
    "print(person.name)\n",
    "del person.name\n",
    "print(person.name)"
   ]
  },
  {
   "cell_type": "code",
   "execution_count": 12,
   "id": "1e108b40",
   "metadata": {},
   "outputs": [],
   "source": [
    "class Fibonacci:\n",
    "    def __init__(self, limit):\n",
    "        self.limit = limit\n",
    "        self.current = 0\n",
    "        self.next = 1\n",
    "    def __iter__(self):\n",
    "        return self\n",
    "    def __next__(self):\n",
    "        if self.current >= self.limit:\n",
    "            raise StopIteration\n",
    "        \n",
    "        result = self.current\n",
    "        self.current, self.next = self.next, self.current + self.next\n",
    "        return result"
   ]
  },
  {
   "cell_type": "code",
   "execution_count": 13,
   "id": "7391ff5b",
   "metadata": {},
   "outputs": [
    {
     "name": "stdout",
     "output_type": "stream",
     "text": [
      "0\n",
      "1\n",
      "1\n",
      "2\n",
      "3\n",
      "5\n",
      "8\n"
     ]
    }
   ],
   "source": [
    "fib = Fibonacci(13)\n",
    "\n",
    "for num in fib:\n",
    "    print(num)"
   ]
  },
  {
   "cell_type": "code",
   "execution_count": null,
   "id": "b909e311",
   "metadata": {},
   "outputs": [],
   "source": []
  }
 ],
 "metadata": {
  "kernelspec": {
   "display_name": "Python 3 (ipykernel)",
   "language": "python",
   "name": "python3"
  },
  "language_info": {
   "codemirror_mode": {
    "name": "ipython",
    "version": 3
   },
   "file_extension": ".py",
   "mimetype": "text/x-python",
   "name": "python",
   "nbconvert_exporter": "python",
   "pygments_lexer": "ipython3",
   "version": "3.10.5"
  }
 },
 "nbformat": 4,
 "nbformat_minor": 5
}
