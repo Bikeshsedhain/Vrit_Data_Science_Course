{
 "cells": [
  {
   "cell_type": "code",
   "execution_count": 1,
   "id": "cf705233",
   "metadata": {},
   "outputs": [],
   "source": [
    "def my_decorator(func):\n",
    "    def wrapper():\n",
    "        print('Before function execution')\n",
    "        func()\n",
    "        print('After function execution')\n",
    "    return wrapper"
   ]
  },
  {
   "cell_type": "code",
   "execution_count": 2,
   "id": "e43fd861",
   "metadata": {},
   "outputs": [],
   "source": [
    "@my_decorator\n",
    "def say_hello():\n",
    "    print(\"Hello world!\")"
   ]
  },
  {
   "cell_type": "code",
   "execution_count": 3,
   "id": "ef0188e8",
   "metadata": {},
   "outputs": [
    {
     "name": "stdout",
     "output_type": "stream",
     "text": [
      "Before function execution\n",
      "Hello world!\n",
      "After function execution\n"
     ]
    }
   ],
   "source": [
    "say_hello()"
   ]
  },
  {
   "cell_type": "code",
   "execution_count": 4,
   "id": "1716670d",
   "metadata": {},
   "outputs": [],
   "source": [
    "# static method, class method is a kind of decorator\n",
    "# log-in required (one example to use decorator)"
   ]
  },
  {
   "cell_type": "code",
   "execution_count": 5,
   "id": "3d7894c8",
   "metadata": {},
   "outputs": [],
   "source": [
    "abc = my_decorator(say_hello)"
   ]
  },
  {
   "cell_type": "code",
   "execution_count": 6,
   "id": "a51a48e0",
   "metadata": {},
   "outputs": [
    {
     "name": "stdout",
     "output_type": "stream",
     "text": [
      "Before function execution\n",
      "Before function execution\n",
      "Hello world!\n",
      "After function execution\n",
      "After function execution\n",
      "None\n"
     ]
    }
   ],
   "source": [
    "print(abc())"
   ]
  },
  {
   "cell_type": "code",
   "execution_count": 11,
   "id": "bbfd1c9d",
   "metadata": {},
   "outputs": [],
   "source": [
    "def repeat(n):\n",
    "    def decorator(func):\n",
    "        print(\"Hello!\")\n",
    "        def wrapper(*args, **kwargs):\n",
    "            for i in range(n):\n",
    "                func(*args, **kwargs)\n",
    "                print(\"Func Run\")\n",
    "        return wrapper\n",
    "    return decorator "
   ]
  },
  {
   "cell_type": "code",
   "execution_count": 12,
   "id": "68a345f8",
   "metadata": {},
   "outputs": [
    {
     "name": "stdout",
     "output_type": "stream",
     "text": [
      "Hello!\n"
     ]
    }
   ],
   "source": [
    "@repeat(3)\n",
    "def say_hello(name):\n",
    "    print(f'Hello, {name}!')"
   ]
  },
  {
   "cell_type": "code",
   "execution_count": 13,
   "id": "b920384b",
   "metadata": {},
   "outputs": [
    {
     "name": "stdout",
     "output_type": "stream",
     "text": [
      "Hello, Bikesh!\n",
      "Func Run\n",
      "Hello, Bikesh!\n",
      "Func Run\n",
      "Hello, Bikesh!\n",
      "Func Run\n"
     ]
    }
   ],
   "source": [
    "say_hello(\"Bikesh\")"
   ]
  },
  {
   "cell_type": "code",
   "execution_count": 14,
   "id": "33ccb3a5",
   "metadata": {},
   "outputs": [],
   "source": [
    "rep = repeat(3)"
   ]
  },
  {
   "cell_type": "code",
   "execution_count": 15,
   "id": "3a44b160",
   "metadata": {},
   "outputs": [
    {
     "name": "stdout",
     "output_type": "stream",
     "text": [
      "Hello, Vrit!\n",
      "Func Run\n",
      "Hello, Vrit!\n",
      "Func Run\n",
      "Hello, Vrit!\n",
      "Func Run\n",
      "Hello!\n"
     ]
    }
   ],
   "source": [
    "dec = rep(say_hello(\"Vrit\"))"
   ]
  },
  {
   "cell_type": "code",
   "execution_count": null,
   "id": "5f11f2c4",
   "metadata": {},
   "outputs": [],
   "source": []
  }
 ],
 "metadata": {
  "kernelspec": {
   "display_name": "Python 3 (ipykernel)",
   "language": "python",
   "name": "python3"
  },
  "language_info": {
   "codemirror_mode": {
    "name": "ipython",
    "version": 3
   },
   "file_extension": ".py",
   "mimetype": "text/x-python",
   "name": "python",
   "nbconvert_exporter": "python",
   "pygments_lexer": "ipython3",
   "version": "3.10.5"
  }
 },
 "nbformat": 4,
 "nbformat_minor": 5
}
