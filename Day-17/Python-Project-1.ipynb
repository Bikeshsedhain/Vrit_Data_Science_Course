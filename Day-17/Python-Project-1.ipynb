{
 "cells": [
  {
   "cell_type": "markdown",
   "id": "a9a37dba",
   "metadata": {},
   "source": [
    "# Problem Statement\n",
    "\n",
    "- Adding products to the cart\n",
    "- Removing products from the cart\n",
    "- Calculating the total cost\n",
    "- Applying discounts based on user type\n",
    "- Generating an invoice"
   ]
  },
  {
   "cell_type": "markdown",
   "id": "bf5f08bd",
   "metadata": {},
   "source": [
    "# 1. Create Product Class\n",
    "we create a basic Product class with attributes for the product and price"
   ]
  },
  {
   "cell_type": "code",
   "execution_count": 40,
   "id": "52582324",
   "metadata": {},
   "outputs": [],
   "source": [
    "class Product:\n",
    "    def __init__(self, name, price):\n",
    "        self.name = name\n",
    "        self.price = price\n",
    "\n",
    "class User:\n",
    "    def __init__(self, name, is_premium = False):\n",
    "        self.name = name\n",
    "        self.is_premium = is_premium"
   ]
  },
  {
   "cell_type": "markdown",
   "id": "f5f027fa",
   "metadata": {},
   "source": [
    "# Create the Shoppingcart class"
   ]
  },
  {
   "cell_type": "code",
   "execution_count": 41,
   "id": "6d70d2d2",
   "metadata": {},
   "outputs": [],
   "source": [
    "def discount_10_percent(func):\n",
    "    def wrapper(self):\n",
    "        total_cost = func(self)\n",
    "        cost_after_discount = total_cost * 0.9\n",
    "        return cost_after_discount\n",
    "    return wrapper"
   ]
  },
  {
   "cell_type": "code",
   "execution_count": 42,
   "id": "1857ff5d",
   "metadata": {},
   "outputs": [],
   "source": [
    "class ShoppingCart:\n",
    "    def __init__(self):\n",
    "        self.products = []\n",
    "        \n",
    "    def add_product(self, product):\n",
    "        self.products.append(product)\n",
    "    \n",
    "    def remove_product(self,product):\n",
    "        self.products.remove(product)\n",
    "        \n",
    "    def calculate_total_cost(self):\n",
    "        total_cost = sum(product.price for product in self.products)\n",
    "        return total_cost\n",
    "    \n",
    "    @discount_10_percent\n",
    "    def calculate_discounted_cost(self):\n",
    "        total_cost = sum(product.price for product in self.products)\n",
    "        return total_cost\n",
    "    \n",
    "    def generate_invoice(self, user):\n",
    "        invoice = f'Invoice for {user.name}:\\n'\n",
    "        invoice += \"============================\\n\"\n",
    "        for product in self.products:\n",
    "            invoice += f\"{product.name}: ${product.price}\\n\"\n",
    "        total_cost = self.calculate_total_cost()\n",
    "        \n",
    "        if user.is_premium:\n",
    "            invoice += \"--------------------------\"\n",
    "            invoice += f\"Sub-Total: ${total_cost}\\n\"\n",
    "            final_cost = self.calculate_discounted_cost()\n",
    "            invoice += f\"Discount (10%): ${total_cost - final_cost}\\n\"\n",
    "            total_cost = final_cost\n",
    "        invoice += \"-------------------------------\\n\"\n",
    "        invoice += f\"Total: ${total_cost}\"\n",
    "        return invoice\n",
    "    \n",
    "    def get_products(self):\n",
    "        yield from self.products\n",
    "        \n",
    "        #for products in self.products:\n",
    "            #yield product"
   ]
  },
  {
   "cell_type": "code",
   "execution_count": 43,
   "id": "0a953877",
   "metadata": {},
   "outputs": [
    {
     "name": "stdout",
     "output_type": "stream",
     "text": [
      "Product: Shirt, Price: 100\n",
      "Product: Pants, Price: 200\n"
     ]
    }
   ],
   "source": [
    "# Create some products\n",
    "product1 = Product(\"Shirt\", 100)\n",
    "product2 = Product(\"Pants\", 200)\n",
    "product3 = Product(\"Shoes\", 500)\n",
    "\n",
    "#create a shopping cart\n",
    "\n",
    "cart = ShoppingCart()\n",
    "\n",
    "#Add products to the cart\n",
    "cart.add_product(product1)\n",
    "cart.add_product(product2)\n",
    "\n",
    "#use the generator to iterate over the products\n",
    "for product in cart.get_products():\n",
    "    print(f\"Product: {product.name}, Price: {product.price}\")"
   ]
  },
  {
   "cell_type": "code",
   "execution_count": 44,
   "id": "08e8a2df",
   "metadata": {},
   "outputs": [
    {
     "name": "stdout",
     "output_type": "stream",
     "text": [
      "Invoice for Rita:\n",
      "============================\n",
      "Shirt: $100\n",
      "Pants: $200\n",
      "-------------------------------\n",
      "Total: $300\n"
     ]
    }
   ],
   "source": [
    "#create a user\n",
    "\n",
    "user = User(\"Rita\", is_premium = False)\n",
    "\n",
    "#Generate and print the invoice\n",
    "invoice = cart.generate_invoice(user)\n",
    "print(invoice)"
   ]
  },
  {
   "cell_type": "code",
   "execution_count": 45,
   "id": "ea4d16db",
   "metadata": {},
   "outputs": [
    {
     "name": "stdout",
     "output_type": "stream",
     "text": [
      "Invoice for John:\n",
      "============================\n",
      "Shirt: $100\n",
      "Pants: $200\n",
      "--------------------------Sub-Total: $300\n",
      "Discount (10%): $30.0\n",
      "-------------------------------\n",
      "Total: $270.0\n"
     ]
    }
   ],
   "source": [
    "#Create a user\n",
    "user = User(\"John\", is_premium =True)\n",
    "\n",
    "#Generate and print the invoice\n",
    "invoice = cart.generate_invoice(user)\n",
    "print(invoice)"
   ]
  },
  {
   "cell_type": "markdown",
   "id": "51dbd649",
   "metadata": {},
   "source": [
    "#### 1. Cart for a user should be independent from other users\n",
    "#### 2. Add a new admin features \"is_admin\" that takes in boolean values \"[True, False]\", and only admin should be allowed to create other admins or all is_premium = True for other users"
   ]
  },
  {
   "cell_type": "code",
   "execution_count": null,
   "id": "920bcc26",
   "metadata": {},
   "outputs": [],
   "source": []
  }
 ],
 "metadata": {
  "kernelspec": {
   "display_name": "Python 3 (ipykernel)",
   "language": "python",
   "name": "python3"
  },
  "language_info": {
   "codemirror_mode": {
    "name": "ipython",
    "version": 3
   },
   "file_extension": ".py",
   "mimetype": "text/x-python",
   "name": "python",
   "nbconvert_exporter": "python",
   "pygments_lexer": "ipython3",
   "version": "3.10.5"
  }
 },
 "nbformat": 4,
 "nbformat_minor": 5
}
