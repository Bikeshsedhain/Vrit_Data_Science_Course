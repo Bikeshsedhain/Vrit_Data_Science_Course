{
 "cells": [
  {
   "cell_type": "markdown",
   "id": "5cc1d99c",
   "metadata": {},
   "source": [
    "# Generator"
   ]
  },
  {
   "cell_type": "code",
   "execution_count": 2,
   "id": "9e9c01c9",
   "metadata": {},
   "outputs": [],
   "source": [
    "# Define a generator function using the yield keyword\n",
    "def number_generator(start,end):\n",
    "    for num in range(start, end +1): #end +1 lekhnu le end samma chaine kura dinxa\n",
    "        yield num"
   ]
  },
  {
   "cell_type": "code",
   "execution_count": 5,
   "id": "8b55cce2",
   "metadata": {},
   "outputs": [],
   "source": [
    "#create a generator object using the generator function\n",
    "\n",
    "my_generator = number_generator(1,5)"
   ]
  },
  {
   "cell_type": "code",
   "execution_count": 10,
   "id": "5c5d5e41",
   "metadata": {},
   "outputs": [
    {
     "name": "stdout",
     "output_type": "stream",
     "text": [
      "<generator object number_generator at 0x00000273ECB1F760>\n"
     ]
    }
   ],
   "source": [
    "print(my_generator)"
   ]
  },
  {
   "cell_type": "code",
   "execution_count": 7,
   "id": "9e30074d",
   "metadata": {},
   "outputs": [],
   "source": [
    "def abc():\n",
    "    pass"
   ]
  },
  {
   "cell_type": "code",
   "execution_count": 8,
   "id": "33023624",
   "metadata": {},
   "outputs": [
    {
     "name": "stdout",
     "output_type": "stream",
     "text": [
      "<function abc at 0x00000273ECB9FF40>\n"
     ]
    }
   ],
   "source": [
    "print(abc)"
   ]
  },
  {
   "cell_type": "code",
   "execution_count": 11,
   "id": "6d4ef675",
   "metadata": {},
   "outputs": [],
   "source": [
    "# step 3: Use the generator object to generate the values on-the-fly"
   ]
  },
  {
   "cell_type": "code",
   "execution_count": 12,
   "id": "de6b246c",
   "metadata": {},
   "outputs": [
    {
     "name": "stdout",
     "output_type": "stream",
     "text": [
      "1\n",
      "2\n",
      "3\n",
      "4\n",
      "5\n"
     ]
    }
   ],
   "source": [
    "print(next(my_generator))\n",
    "print(next(my_generator))\n",
    "print(next(my_generator))\n",
    "print(next(my_generator))\n",
    "print(next(my_generator))"
   ]
  },
  {
   "cell_type": "code",
   "execution_count": 14,
   "id": "7f199136",
   "metadata": {},
   "outputs": [
    {
     "ename": "StopIteration",
     "evalue": "",
     "output_type": "error",
     "traceback": [
      "\u001b[1;31m---------------------------------------------------------------------------\u001b[0m",
      "\u001b[1;31mStopIteration\u001b[0m                             Traceback (most recent call last)",
      "Cell \u001b[1;32mIn[14], line 1\u001b[0m\n\u001b[1;32m----> 1\u001b[0m \u001b[38;5;28mprint\u001b[39m(\u001b[38;5;28;43mnext\u001b[39;49m\u001b[43m(\u001b[49m\u001b[43mmy_generator\u001b[49m\u001b[43m)\u001b[49m) \u001b[38;5;66;03m#5 maa end garna vanya xa!\u001b[39;00m\n",
      "\u001b[1;31mStopIteration\u001b[0m: "
     ]
    }
   ],
   "source": [
    "print(next(my_generator)) #5 maa end garna vanya xa!"
   ]
  },
  {
   "cell_type": "code",
   "execution_count": 16,
   "id": "41ef79c9",
   "metadata": {},
   "outputs": [
    {
     "name": "stdout",
     "output_type": "stream",
     "text": [
      "1\n",
      "2\n",
      "3\n",
      "4\n",
      "5\n"
     ]
    }
   ],
   "source": [
    "my_generator = number_generator(1,5) # my_generator le paila ko lai replace garyo\n",
    "\n",
    "for num in my_generator:\n",
    "    print(num)"
   ]
  },
  {
   "cell_type": "code",
   "execution_count": null,
   "id": "deb74fe9",
   "metadata": {},
   "outputs": [],
   "source": []
  }
 ],
 "metadata": {
  "kernelspec": {
   "display_name": "Python 3 (ipykernel)",
   "language": "python",
   "name": "python3"
  },
  "language_info": {
   "codemirror_mode": {
    "name": "ipython",
    "version": 3
   },
   "file_extension": ".py",
   "mimetype": "text/x-python",
   "name": "python",
   "nbconvert_exporter": "python",
   "pygments_lexer": "ipython3",
   "version": "3.10.5"
  }
 },
 "nbformat": 4,
 "nbformat_minor": 5
}
