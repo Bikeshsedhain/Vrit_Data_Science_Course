{
 "cells": [
  {
   "cell_type": "markdown",
   "id": "9aedcc9e",
   "metadata": {},
   "source": [
    "# Method Overriding in Python"
   ]
  },
  {
   "cell_type": "code",
   "execution_count": 1,
   "id": "ab27ee8c",
   "metadata": {},
   "outputs": [],
   "source": [
    "class Animal:\n",
    "    def sound(self):\n",
    "        print(\"making some sound...\")\n",
    "        \n",
    "class Dog(Animal):\n",
    "    def sound(self):\n",
    "        print(\"Barking!\")\n",
    "        \n",
    "class Cat(Animal):\n",
    "    def sound(self):\n",
    "        print(\"meowing\")"
   ]
  },
  {
   "cell_type": "code",
   "execution_count": 2,
   "id": "3447a9d4",
   "metadata": {},
   "outputs": [
    {
     "name": "stdout",
     "output_type": "stream",
     "text": [
      "making some sound...\n",
      "Barking!\n",
      "meowing\n"
     ]
    }
   ],
   "source": [
    "animal = Animal()\n",
    "dog = Dog()\n",
    "cat = Cat()\n",
    "\n",
    "animal.sound()\n",
    "dog.sound()\n",
    "cat.sound()"
   ]
  },
  {
   "cell_type": "code",
   "execution_count": 3,
   "id": "0f7987fa",
   "metadata": {},
   "outputs": [],
   "source": [
    "class Animal:\n",
    "    def sound(self):\n",
    "        print(\"making some sound...\")\n",
    "        \n",
    "class Base2:\n",
    "    def sound(self):\n",
    "        print(\"Base2 sound!\")\n",
    "        \n",
    "class Cat(Animal,Base2):\n",
    "    def speak(self):\n",
    "        print(\"meowing\")"
   ]
  },
  {
   "cell_type": "code",
   "execution_count": 4,
   "id": "4a990359",
   "metadata": {},
   "outputs": [
    {
     "name": "stdout",
     "output_type": "stream",
     "text": [
      "making some sound...\n"
     ]
    }
   ],
   "source": [
    "animal = Animal()\n",
    "animal.sound()"
   ]
  },
  {
   "cell_type": "code",
   "execution_count": 5,
   "id": "ff9628f6",
   "metadata": {},
   "outputs": [
    {
     "name": "stdout",
     "output_type": "stream",
     "text": [
      "Base2 sound!\n"
     ]
    }
   ],
   "source": [
    "base = Base2()\n",
    "base.sound()"
   ]
  },
  {
   "cell_type": "code",
   "execution_count": 7,
   "id": "c6362db0",
   "metadata": {},
   "outputs": [
    {
     "name": "stdout",
     "output_type": "stream",
     "text": [
      "meowing\n",
      "making some sound...\n"
     ]
    }
   ],
   "source": [
    "cat = Cat()\n",
    "cat.speak()\n",
    "cat.sound() #cat le animal ko method call gareko wala.  "
   ]
  },
  {
   "cell_type": "code",
   "execution_count": 8,
   "id": "26cff5f2",
   "metadata": {},
   "outputs": [],
   "source": [
    "class Parent:\n",
    "    def say_hello(self):\n",
    "        print('hello from parent')\n",
    "    \n",
    "class Child(Parent):\n",
    "    def say_hello(self):\n",
    "        print('hello from child')\n",
    "        super().say_hello() # calls the overridden method in the parent class"
   ]
  },
  {
   "cell_type": "code",
   "execution_count": 9,
   "id": "58646f9c",
   "metadata": {},
   "outputs": [
    {
     "name": "stdout",
     "output_type": "stream",
     "text": [
      "hello from child\n",
      "hello from parent\n"
     ]
    }
   ],
   "source": [
    "obj = Child()\n",
    "obj.say_hello()"
   ]
  },
  {
   "cell_type": "code",
   "execution_count": null,
   "id": "ab510403",
   "metadata": {},
   "outputs": [],
   "source": []
  }
 ],
 "metadata": {
  "kernelspec": {
   "display_name": "Python 3 (ipykernel)",
   "language": "python",
   "name": "python3"
  },
  "language_info": {
   "codemirror_mode": {
    "name": "ipython",
    "version": 3
   },
   "file_extension": ".py",
   "mimetype": "text/x-python",
   "name": "python",
   "nbconvert_exporter": "python",
   "pygments_lexer": "ipython3",
   "version": "3.10.5"
  }
 },
 "nbformat": 4,
 "nbformat_minor": 5
}
