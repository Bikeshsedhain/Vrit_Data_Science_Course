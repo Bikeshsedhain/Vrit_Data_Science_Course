{
 "cells": [
  {
   "cell_type": "markdown",
   "id": "725dbeb1",
   "metadata": {},
   "source": [
    "## Polymorphism\n",
    "\n",
    "Polymorphism can be implemented using four different techniques <br>\n",
    " Method Overloading <br>\n",
    " Method Overriding <br>\n",
    " Operator Overloading <br>\n",
    " Duck Typing <br>"
   ]
  },
  {
   "cell_type": "code",
   "execution_count": 2,
   "id": "5a049dd1",
   "metadata": {},
   "outputs": [
    {
     "name": "stdout",
     "output_type": "stream",
     "text": [
      "Driving a car\n",
      "Driving a bike\n"
     ]
    }
   ],
   "source": [
    "class Car:\n",
    "    def drive(self):\n",
    "        print('Driving a car')\n",
    "\n",
    "class Bike:\n",
    "    def drive(self):\n",
    "        print('Driving a bike')\n",
    "\n",
    "def start_driving(vehicle):\n",
    "    vehicle.drive()\n",
    "\n",
    "car = Car()\n",
    "bike = Bike()\n",
    "\n",
    "start_driving(car)\n",
    "start_driving(bike)"
   ]
  },
  {
   "cell_type": "markdown",
   "id": "25533c81",
   "metadata": {},
   "source": [
    "# Abstraction"
   ]
  },
  {
   "cell_type": "code",
   "execution_count": 3,
   "id": "facee0c3",
   "metadata": {},
   "outputs": [],
   "source": [
    "from abc import ABC, abstractmethod\n",
    "\n",
    "class Shape(ABC):\n",
    "    @abstractmethod\n",
    "    def area(self):\n",
    "        pass\n",
    "    \n",
    "    @abstractmethod\n",
    "    def perimeter(self):\n",
    "        pass"
   ]
  },
  {
   "cell_type": "code",
   "execution_count": 4,
   "id": "5b4e5005",
   "metadata": {},
   "outputs": [],
   "source": [
    "class Rectangle(Shape):\n",
    "    def __init__(self, length, breadth):\n",
    "        self.length = length\n",
    "        self.breadth = breadth\n",
    "    def area(self):\n",
    "        return self.length * self.breadth\n",
    "    def perimeter(self):\n",
    "        return 2 * self.length * self.breadth"
   ]
  },
  {
   "cell_type": "code",
   "execution_count": 7,
   "id": "cc98fc6a",
   "metadata": {},
   "outputs": [
    {
     "name": "stdout",
     "output_type": "stream",
     "text": [
      "10\n",
      "20\n"
     ]
    }
   ],
   "source": [
    "rect = Rectangle(2,5)\n",
    "print(rect.area())\n",
    "print(rect.perimeter())"
   ]
  },
  {
   "cell_type": "code",
   "execution_count": null,
   "id": "1f95c9cf",
   "metadata": {},
   "outputs": [],
   "source": []
  }
 ],
 "metadata": {
  "kernelspec": {
   "display_name": "Python 3 (ipykernel)",
   "language": "python",
   "name": "python3"
  },
  "language_info": {
   "codemirror_mode": {
    "name": "ipython",
    "version": 3
   },
   "file_extension": ".py",
   "mimetype": "text/x-python",
   "name": "python",
   "nbconvert_exporter": "python",
   "pygments_lexer": "ipython3",
   "version": "3.10.5"
  }
 },
 "nbformat": 4,
 "nbformat_minor": 5
}
