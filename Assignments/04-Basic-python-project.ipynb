{
 "cells": [
  {
   "cell_type": "code",
   "execution_count": 66,
   "id": "eb8d2efb",
   "metadata": {},
   "outputs": [],
   "source": [
    "\n",
    "class Product:\n",
    "    def __init__(self, name, price):\n",
    "        self.name = name\n",
    "        self.price = price\n",
    "\n",
    "class User:\n",
    "    admin_users = []\n",
    "    def __init__(self, name, is_premium = False):\n",
    "        self.name = name\n",
    "        self.is_premium = is_premium\n",
    "        \n",
    "        if self.name not in self.admin_users: #if user is not admin, it will call is_admin and ask\n",
    "            self.is_admin()    \n",
    "        else:\n",
    "            self.is_premium = True\n",
    "    \n",
    "    def is_admin(self):\n",
    "\n",
    "        yes_or_no = input(\"Is user a admin user? 'yes' or 'no' \\n\") # if typed 'yes' user is included in admin\n",
    "        if yes_or_no == 'yes':\n",
    "            self.admin_users.append(self.name)\n",
    "        else:\n",
    "            pass"
   ]
  },
  {
   "cell_type": "code",
   "execution_count": 67,
   "id": "cae86909",
   "metadata": {},
   "outputs": [],
   "source": [
    "def discount_10_percent(func):\n",
    "    def wrapper(self):\n",
    "        total_cost = func(self)\n",
    "        cost_after_discount = total_cost * 0.9\n",
    "        return cost_after_discount\n",
    "    return wrapper"
   ]
  },
  {
   "cell_type": "code",
   "execution_count": 73,
   "id": "413f5928",
   "metadata": {},
   "outputs": [],
   "source": [
    "class ShoppingCart:\n",
    "    def __init__(self):\n",
    "        self.products = {}\n",
    "        \n",
    "    def add_product(self, product, quantity): #ask for the quantity of the product too\n",
    "        if product in self.products:\n",
    "            self.products[product] +=quantity #Add quantity if product is already presented \n",
    "        else:\n",
    "            self.products[product] = quantity #Add new product with its quantity\n",
    "    \n",
    "    def remove_product(self,product, quantity):\n",
    "        if product in self.products:\n",
    "            if self.products[product] > quantity:\n",
    "                self.products[product] -= quantity  # Subtract the specified quantity from the product\n",
    "            else:\n",
    "                del self.products[product]  # Remove the entire product if quantity is greater than or equal to the current quantity\n",
    "        \n",
    "    def calculate_total_cost(self):\n",
    "        total_cost = sum(product.price * quantity for product, quantity in self.products.items())\n",
    "        return total_cost\n",
    "    \n",
    "    @discount_10_percent\n",
    "    def calculate_discounted_cost(self):\n",
    "        total_cost = sum(product.price * quantity for product, quantity in self.products.items())\n",
    "        return total_cost\n",
    "    \n",
    "    def generate_invoice(self, user):\n",
    "        invoice = f'Invoice for {user.name}:\\n'\n",
    "        invoice += \"============================\\n\"\n",
    "        invoice += \"|Product|\\t|Quantity|\\t|Price per Pcs|\\n\"\n",
    "        for product, quantity in self.products.items():\n",
    "            invoice += f\"{product.name}\\t\\t{quantity} Pcs:\\t\\t${product.price}\\n\"\n",
    "        total_cost = self.calculate_total_cost()\n",
    "        \n",
    "        if user.is_premium:\n",
    "            invoice += \"--------------------------\\n\"\n",
    "            invoice += f\"Sub-Total: ${total_cost}\\n\"\n",
    "            final_cost = self.calculate_discounted_cost()\n",
    "            invoice += f\"Discount (10%): ${total_cost - final_cost}\\n\"\n",
    "            total_cost = final_cost\n",
    "        invoice += \"-------------------------------\\n\"\n",
    "        invoice += f\"Total: ${total_cost}\"\n",
    "        return invoice\n",
    "    \n",
    "    def get_products(self):\n",
    "        yield {product.name: quantity for product, quantity in self.products.items()}\n",
    "        \n",
    "        #for products in self.products:\n",
    "            #yield product"
   ]
  },
  {
   "cell_type": "code",
   "execution_count": 74,
   "id": "4bd55c18",
   "metadata": {},
   "outputs": [],
   "source": [
    "# Create some products\n",
    "product1 = Product(\"Shirt\", 100)\n",
    "product2 = Product(\"Pants\", 200)\n",
    "product3 = Product(\"Shoes\", 500)\n",
    "\n",
    "#create a shopping cart\n",
    "\n",
    "cart1 = ShoppingCart() #different cart for different user should be made\n",
    "\n",
    "#Add products to the cart1 with quantity\n",
    "cart1.add_product(product1,3)\n",
    "cart1.add_product(product2,4)\n",
    "\n",
    "#use the generator to iterate over the products\n",
    "# for product, quantity in cart1.get_products():\n",
    "#     print(f\"Product: {product.name}; Quantity: {quantity}; Price: {product.price}\")"
   ]
  },
  {
   "cell_type": "code",
   "execution_count": 75,
   "id": "61722262",
   "metadata": {},
   "outputs": [
    {
     "name": "stdout",
     "output_type": "stream",
     "text": [
      "Is user a admin user? 'yes' or 'no' \n",
      "\n",
      "Invoice for Rita:\n",
      "============================\n",
      "|Product|\t|Quantity|\t|Price per Pcs|\n",
      "Shirt\t\t3 Pcs:\t\t$100\n",
      "Pants\t\t4 Pcs:\t\t$200\n",
      "-------------------------------\n",
      "Total: $1100\n"
     ]
    }
   ],
   "source": [
    "#create a user\n",
    "\n",
    "user1 = User(\"Rita\")\n",
    "\n",
    "#Generate and print the invoice\n",
    "invoice = cart1.generate_invoice(user)\n",
    "print(invoice)"
   ]
  },
  {
   "cell_type": "code",
   "execution_count": 76,
   "id": "7107ea39",
   "metadata": {},
   "outputs": [
    {
     "name": "stdout",
     "output_type": "stream",
     "text": [
      "Is user a admin user? 'yes' or 'no' \n",
      "yes\n",
      "Invoice for John:\n",
      "============================\n",
      "|Product|\t|Quantity|\t|Price per Pcs|\n",
      "Shirt\t\t5 Pcs:\t\t$100\n",
      "Pants\t\t3 Pcs:\t\t$200\n",
      "Shoes\t\t5 Pcs:\t\t$500\n",
      "--------------------------\n",
      "Sub-Total: $3600\n",
      "Discount (10%): $360.0\n",
      "-------------------------------\n",
      "Total: $3240.0\n"
     ]
    }
   ],
   "source": [
    "#Create a user\n",
    "user2 = User(\"John\") #create user2\n",
    "\n",
    "user2.is_admin()\n",
    "user2 = User(\"John\")\n",
    "cart2 = ShoppingCart() #generating new cart for user2\n",
    "\n",
    "cart2.add_product(product1,5)\n",
    "cart2.add_product(product2,3)\n",
    "cart2.add_product(product3,5)\n",
    "#Generate and print the invoice\n",
    "invoice = cart2.generate_invoice(user2)\n",
    "print(invoice)"
   ]
  },
  {
   "cell_type": "code",
   "execution_count": null,
   "id": "0261d591",
   "metadata": {},
   "outputs": [],
   "source": []
  }
 ],
 "metadata": {
  "kernelspec": {
   "display_name": "Python 3 (ipykernel)",
   "language": "python",
   "name": "python3"
  },
  "language_info": {
   "codemirror_mode": {
    "name": "ipython",
    "version": 3
   },
   "file_extension": ".py",
   "mimetype": "text/x-python",
   "name": "python",
   "nbconvert_exporter": "python",
   "pygments_lexer": "ipython3",
   "version": "3.10.5"
  }
 },
 "nbformat": 4,
 "nbformat_minor": 5
}
