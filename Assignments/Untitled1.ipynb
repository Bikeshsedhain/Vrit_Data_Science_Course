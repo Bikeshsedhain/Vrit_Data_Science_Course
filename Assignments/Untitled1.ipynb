{
 "cells": [
  {
   "cell_type": "code",
   "execution_count": 1,
   "id": "545fd108",
   "metadata": {},
   "outputs": [],
   "source": [
    "class Product:\n",
    "    def __init__(self, name, price):\n",
    "        self.name = name\n",
    "        self.price = price"
   ]
  },
  {
   "cell_type": "code",
   "execution_count": 3,
   "id": "8067fdd6",
   "metadata": {},
   "outputs": [],
   "source": [
    "class Users:\n",
    "    users = [] #class variable to store all created users\n",
    "    \n",
    "    def __init__(self, name):\n",
    "        self.name = self.validate_name(name)\n",
    "        self.__is_premium = False\n",
    "        self.__is_admin = False\n",
    "        self.cart = ShoppintCart()\n",
    "        User.users.append(self) #Add the user to the list of users\n",
    "        if self.name =='admin':\n",
    "            self.__is_premium = True\n",
    "            self.__is_admin = True\n",
    "        \n",
    "             \n",
    "    @staticmethod\n",
    "    def validate_name(name):\n",
    "        if any(user.name == name for user in User.users):\n",
    "            print(f\"User with the name '{name}' already exists. Please choose a different name\")\n",
    "            unique_name = input(\"Please enter a unique name: \\n\")\n",
    "            return User.validate_name(unique_name) #Recursive validate the unique name\n",
    "        return name\n",
    "    \n",
    "    @property\n",
    "    def is_admin(self):\n",
    "        return self.__is_admin\n",
    "    \n",
    "    @property\n",
    "    def is_premium(self):\n",
    "        return self.__is_premium\n",
    "    \n",
    "    def make_admin(self,admin):\n",
    "        if admin_user.is_admin:\n",
    "            self.__is_admin = True\n",
    "            self.__is_premium = True # Admin jati sabai aafai premium user vayo\n",
    "    \n",
    "    def make_premium(self, admin_user):\n",
    "        if admin_user.is_admin:\n",
    "            self.__is_premium = True\n",
    "            \n",
    "    def remove_admin(self, admin_user):\n",
    "        if admin_user.is_admin:\n",
    "            self.__is_admin = False\n",
    "            \n",
    "    def remove_premium(self, admin_user):\n",
    "        if admin_user.is_admin:\n",
    "            self.__is_premium = False\n",
    "        "
   ]
  },
  {
   "cell_type": "code",
   "execution_count": null,
   "id": "41c2ebf2",
   "metadata": {},
   "outputs": [],
   "source": []
  }
 ],
 "metadata": {
  "kernelspec": {
   "display_name": "Python 3 (ipykernel)",
   "language": "python",
   "name": "python3"
  },
  "language_info": {
   "codemirror_mode": {
    "name": "ipython",
    "version": 3
   },
   "file_extension": ".py",
   "mimetype": "text/x-python",
   "name": "python",
   "nbconvert_exporter": "python",
   "pygments_lexer": "ipython3",
   "version": "3.10.5"
  }
 },
 "nbformat": 4,
 "nbformat_minor": 5
}
